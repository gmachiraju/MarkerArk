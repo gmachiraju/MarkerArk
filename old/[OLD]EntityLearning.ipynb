{
 "cells": [
  {
   "cell_type": "code",
   "execution_count": 1,
   "metadata": {
    "collapsed": false
   },
   "outputs": [],
   "source": [
    "import EntityGenerator\n",
    "%load_ext autoreload\n",
    "%autoreload 2\n",
    "\n",
    "import cPickle, os, sys\n",
    "sys.path.insert(1, os.path.join(sys.path[0], '..'))\n",
    "\n",
    "from ddlite import *\n",
    "np.random.seed(seed=1701)\n",
    "\n",
    "%matplotlib inline\n",
    "matplotlib.rcParams['figure.figsize'] = (18,6)"
   ]
  },
  {
   "cell_type": "code",
   "execution_count": 2,
   "metadata": {
    "collapsed": true
   },
   "outputs": [],
   "source": [
    "E = EntityGenerator.generateRelations(\"AGR2_blood_biomarker.txt\")"
   ]
  },
  {
   "cell_type": "code",
   "execution_count": 3,
   "metadata": {
    "collapsed": false
   },
   "outputs": [
    {
     "name": "stdout",
     "output_type": "stream",
     "text": [
      "Extracted 7055 features for each of 287 mentions\n"
     ]
    }
   ],
   "source": [
    "feats = None\n",
    "\n",
    "DDL = DDLiteModel(E, feats)\n",
    "print \"Extracted {} features for each of {} mentions\".format(DDL.num_feats(), DDL.num_candidates())"
   ]
  },
  {
   "cell_type": "code",
   "execution_count": 5,
   "metadata": {
    "collapsed": false
   },
   "outputs": [],
   "source": [
    "uids = []\n",
    "gt = []\n",
    "for entity in E:\n",
    "    uids.append(entity.uid)\n",
    "count = 1\n",
    "while count < len(uids) + 1:\n",
    "    if(count%3 == 0):\n",
    "        gt.append(1)\n",
    "    elif(count%2 == 0):\n",
    "        gt.append(-1)\n",
    "    else:\n",
    "        gt.append(0)\n",
    "    count += 1\n",
    "\n",
    "DDL.update_gt(gt[:50], uids=uids[:50])\n",
    "DDL.set_holdout(validation_frac=0.5)"
   ]
  },
  {
   "cell_type": "code",
   "execution_count": 6,
   "metadata": {
    "collapsed": false
   },
   "outputs": [
    {
     "name": "stdout",
     "output_type": "stream",
     "text": [
      "Making sure MindTagger is installed. Hang on!\n"
     ]
    },
    {
     "data": {
      "text/html": [
       "\n",
       "        <iframe\n",
       "            width=\"100%\"\n",
       "            height=\"1200\"\n",
       "            src=\"http://varun-LENOVO-IDEAPAD-Y50-70:8399/#/mindtagger/ea5646719b31ed44\"\n",
       "            frameborder=\"0\"\n",
       "            allowfullscreen\n",
       "        ></iframe>\n",
       "        "
      ],
      "text/plain": [
       "<IPython.lib.display.IFrame at 0x7f3de8567f10>"
      ]
     },
     "execution_count": 6,
     "metadata": {},
     "output_type": "execute_result"
    }
   ],
   "source": [
    "DDL.open_mindtagger(num_sample=100, width='100%', height=1200)"
   ]
  },
  {
   "cell_type": "code",
   "execution_count": 7,
   "metadata": {
    "collapsed": true
   },
   "outputs": [],
   "source": [
    "DDL.add_mindtagger_tags()\n",
    "DDL.update_gt(gt[50:], uids=uids[50:])"
   ]
  },
  {
   "cell_type": "code",
   "execution_count": 12,
   "metadata": {
    "collapsed": true
   },
   "outputs": [],
   "source": [
    "#PUT LABELLING FUNCTIONS HERE\n",
    "def LF_alwaysTrue(m):\n",
    "    return 1"
   ]
  },
  {
   "cell_type": "code",
   "execution_count": 16,
   "metadata": {
    "collapsed": false
   },
   "outputs": [],
   "source": [
    "LFs = [LF_alwaysTrue]\n",
    "DDL.apply_lfs(LFs, clear = False)"
   ]
  },
  {
   "cell_type": "code",
   "execution_count": 17,
   "metadata": {
    "collapsed": false
   },
   "outputs": [
    {
     "name": "stdout",
     "output_type": "stream",
     "text": [
      "Begin training for rate=0.01, mu=1e-07\n",
      "\tLearning epoch = 0\tGradient mag. = 0.671751\n",
      "\tLearning epoch = 250\tGradient mag. = 2.458285\n",
      "Final gradient magnitude for rate=0.01, mu=1e-07: 1.462\n",
      "Begin training for rate=0.01, mu=1e-09\n",
      "\tLearning epoch = 0\tGradient mag. = 0.445720\n",
      "\tLearning epoch = 250\tGradient mag. = 0.455026\n",
      "\tLearning epoch = 500\tGradient mag. = 0.441612\n",
      "\tLearning epoch = 750\tGradient mag. = 0.428904\n",
      "\tLearning epoch = 1000\tGradient mag. = 0.416864\n",
      "\tLearning epoch = 1250\tGradient mag. = 0.405457\n",
      "\tLearning epoch = 1500\tGradient mag. = 0.394648\n",
      "\tLearning epoch = 1750\tGradient mag. = 0.384406\n",
      "\tLearning epoch = 2000\tGradient mag. = 0.374699\n",
      "\tLearning epoch = 2250\tGradient mag. = 0.365498\n",
      "\tLearning epoch = 2500\tGradient mag. = 0.356774\n",
      "\tLearning epoch = 2750\tGradient mag. = 0.348502\n",
      "Final gradient magnitude for rate=0.01, mu=1e-09: 0.341\n",
      "Begin training for rate=0.01, mu=1e-05\n",
      "\tLearning epoch = 0\tGradient mag. = 0.445720\n",
      "\tLearning epoch = 250\tGradient mag. = 0.455027\n",
      "\tLearning epoch = 500\tGradient mag. = 0.441614\n",
      "\tLearning epoch = 750\tGradient mag. = 0.428907\n",
      "\tLearning epoch = 1000\tGradient mag. = 0.416868\n",
      "\tLearning epoch = 1250\tGradient mag. = 0.405462\n",
      "\tLearning epoch = 1500\tGradient mag. = 0.394654\n",
      "\tLearning epoch = 1750\tGradient mag. = 0.384413\n",
      "\tLearning epoch = 2000\tGradient mag. = 0.374707\n",
      "\tLearning epoch = 2250\tGradient mag. = 0.365507\n",
      "\tLearning epoch = 2500\tGradient mag. = 0.356785\n",
      "\tLearning epoch = 2750\tGradient mag. = 0.348514\n",
      "Final gradient magnitude for rate=0.01, mu=1e-05: 0.341\n",
      "Begin training for rate=0.01, mu=0.001\n",
      "\tLearning epoch = 0\tGradient mag. = 0.445720\n",
      "\tLearning epoch = 250\tGradient mag. = 0.455093\n",
      "\tLearning epoch = 500\tGradient mag. = 0.441760\n",
      "\tLearning epoch = 750\tGradient mag. = 0.429144\n",
      "\tLearning epoch = 1000\tGradient mag. = 0.417208\n",
      "\tLearning epoch = 1250\tGradient mag. = 0.405914\n",
      "\tLearning epoch = 1500\tGradient mag. = 0.395226\n",
      "\tLearning epoch = 1750\tGradient mag. = 0.385110\n",
      "\tLearning epoch = 2000\tGradient mag. = 0.375534\n",
      "\tLearning epoch = 2250\tGradient mag. = 0.366468\n",
      "\tLearning epoch = 2500\tGradient mag. = 0.357883\n",
      "\tLearning epoch = 2750\tGradient mag. = 0.349751\n",
      "Final gradient magnitude for rate=0.01, mu=0.001: 0.342\n",
      "Begin training for rate=0.01, mu=0.1\n",
      "\tLearning epoch = 0\tGradient mag. = 0.445720\n",
      "\tLearning epoch = 250\tGradient mag. = 0.460511\n",
      "\tLearning epoch = 500\tGradient mag. = 0.453290\n",
      "\tLearning epoch = 750\tGradient mag. = 0.447269\n",
      "\tLearning epoch = 1000\tGradient mag. = 0.442241\n",
      "\tLearning epoch = 1250\tGradient mag. = 0.438036\n",
      "\tLearning epoch = 1500\tGradient mag. = 0.434516\n",
      "\tLearning epoch = 1750\tGradient mag. = 0.431566\n",
      "\tLearning epoch = 2000\tGradient mag. = 0.429090\n",
      "\tLearning epoch = 2250\tGradient mag. = 0.427011\n",
      "\tLearning epoch = 2500\tGradient mag. = 0.425264\n",
      "\tLearning epoch = 2750\tGradient mag. = 0.423795\n",
      "Final gradient magnitude for rate=0.01, mu=0.1: 0.423\n"
     ]
    },
    {
     "data": {
      "image/png": "[encoded data removed]",
      "text/plain": [
       "<matplotlib.figure.Figure at 0x7f3da816bf10>"
      ]
     },
     "metadata": {},
     "output_type": "display_data"
    },
    {
     "name": "stdout",
     "output_type": "stream",
     "text": [
      "CPU times: user 6.69 s, sys: 636 ms, total: 7.32 s\n",
      "Wall time: 6.56 s\n"
     ]
    },
    {
     "data": {
      "text/html": [
       "<table><tr><td><b>ID</b></td><td><b># LFs</b></td><td><b>Test set size</b></td><td><b>Model</b></td><td><b>Precision</b></td><td><b>Recall</b></td><td><b>F1</b></td></tr><tr><td>1</td><td>2</td><td>17</td><td>Logistic regression</td><td>0.471</td><td>1.000</td><td>0.640</td></tr></table><table><tr><td><b>LF</b></td></tr><tr><td>LF_alwaysTrue</td></tr><tr><td>LF_alwaysTrue</td></tr></table>"
      ],
      "text/plain": [
       "<ddlite.ModelLog instance at 0x7f3da80ee368>"
      ]
     },
     "execution_count": 17,
     "metadata": {},
     "output_type": "execute_result"
    }
   ],
   "source": [
    "matplotlib.rcParams['figure.figsize'] = (12,4)\n",
    "mu_seq = np.ravel([1e-9, 1e-5, 1e-3, 1e-1])\n",
    "lf_opts = {'sample': False, 'verbose': True}\n",
    "model_opts = {'sample': False, 'n_iter': 3000, 'alpha': 0.5, 'mu': mu_seq, 'bias': False, 'verbose': True}\n",
    "%time DDL.train_model(method='lr', lf_opts=lf_opts, model_opts=model_opts)"
   ]
  },
  {
   "cell_type": "code",
   "execution_count": 18,
   "metadata": {
    "collapsed": false
   },
   "outputs": [
    {
     "name": "stdout",
     "output_type": "stream",
     "text": [
      "LF accuracy: 0.485\n",
      "Full model accuracy: 0.485\n"
     ]
    }
   ],
   "source": [
    "idxs, gt = DDL.get_labeled_ground_truth(subset=DDL.holdout())\n",
    "acc_feats = np.mean(DDL.get_predicted(subset=DDL.holdout()) == gt)\n",
    "acc_lfs = np.mean(DDL.get_lf_predicted(subset=DDL.holdout()) == gt)\n",
    "print \"LF accuracy: {:.3f}\\nFull model accuracy: {:.3f}\".format(acc_lfs, acc_feats)\n",
    "print DDL.get_lf_predicted(subset=DDL.holdout)"
   ]
  }
 ],
 "metadata": {
  "kernelspec": {
   "display_name": "Python 2",
   "language": "python",
   "name": "python2"
  },
  "language_info": {
   "codemirror_mode": {
    "name": "ipython",
    "version": 2.0
   },
   "file_extension": ".py",
   "mimetype": "text/x-python",
   "name": "python",
   "nbconvert_exporter": "python",
   "pygments_lexer": "ipython2",
   "version": "2.7.11+"
  }
 },
 "nbformat": 4,
 "nbformat_minor": 0
}