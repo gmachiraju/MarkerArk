{
 "cells": [
  {
   "cell_type": "code",
   "execution_count": 2,
   "metadata": {
    "collapsed": false
   },
   "outputs": [],
   "source": [
    "import CandidatePairGenerator"
   ]
  },
  {
   "cell_type": "code",
   "execution_count": 3,
   "metadata": {
    "collapsed": false
   },
   "outputs": [],
   "source": [
    "%load_ext autoreload\n",
    "%autoreload 2\n",
    "\n",
    "import cPickle, os, sys\n",
    "sys.path.insert(1, os.path.join(sys.path[0], '..'))\n",
    "\n",
    "from ddlite import *\n",
    "\n",
    "%matplotlib inline\n",
    "matplotlib.rcParams['figure.figsize'] = (18,6)"
   ]
  },
  {
   "cell_type": "code",
   "execution_count": 4,
   "metadata": {
    "collapsed": false
   },
   "outputs": [
    {
     "name": "stdout",
     "output_type": "stream",
     "text": [
      "biomarker\nbiomarker\nMarkerIdx:\n7\nROOTIdx:\n[u'punct', u'amod', u'compound', u'conj', u'punct', u'conj', u'punct']\n\n\nmarker\nbiomarker\nMarkerIdx:\n7\nROOTIdx:\n[u'auxpass', u'csubj', u'case', u'compound', u'nmod', u'cop', u'det']\n\n\nbiomarker\nMarkerIdx:\n2\nROOTIdx:\n[u'cop', u'det']\n\n\n"
     ]
    },
    {
     "name": "stdout",
     "output_type": "stream",
     "text": [
      "biomarker\nMarkerIdx:\n2\nROOTIdx:\n[u'cop', u'det']\n\n\nbiomarker\nbiomarker\nMarkerIdx:\n2\nROOTIdx:\n[u'cop', u'det']\n\n\nbiomarker\nMarkerIdx:\n2\nROOTIdx:\n[u'cop', u'det']\n\n\nbiomarker\nMarkerIdx:\n2\nROOTIdx:\n[u'cop', u'det']\n\n\nmarker\nmarker\n"
     ]
    },
    {
     "name": "stdout",
     "output_type": "stream",
     "text": [
      "marker\nmarker\nmarker\nMarkerIdx:\n9\nROOTIdx:\n[u'nsubj', u'cop', u'nsubj', u'acl:relcl', u'cc', u'conj', u'case', u'det', u'amod']\n\n\nbiomarker\nMarkerIdx:\n2\nROOTIdx:\n[u'cop', u'det']\n\n\nmarker\nMarkerIdx:\n15\nROOTIdx:\n[u'punct', u'nsubjpass', u'auxpass', u'ROOT', u'case', u'compound', u'nmod', u'cc', u'aux', u'cop', u'conj', u'case', u'det', u'compound', u'compound']\n3\n\n\n"
     ]
    }
   ],
   "source": [
    "DDL = CandidatePairGenerator.doEverything()"
   ]
  },
  {
   "cell_type": "markdown",
   "metadata": {},
   "source": [
    "We need a blind, gold standard ground truth set to evaluate our predictions. We can add these by using the uids for the candidates we want, and align these with a value of 1 for positive or a value of -1 for negative. We'll load in a set now using `DDL.update_gt()` and set it as the holdout. We'll assign half of the holdout to a validation set for parameter tuning, and the other half to a test set."
   ]
  },
  {
   "cell_type": "markdown",
   "metadata": {},
   "source": [
    "## Building a ground truth set with MindTagger\n",
    "In order to evaluate our labeling functions and learning results, we'll create a small set of ground truth labels for some candidates using [Mindtagger](http://deepdive.stanford.edu/labeling). This will highlight each candidate in the sentence in which it appears. We set the response to yes if it is a mention of gene, and no otherwise. If you aren't sure, you can abstain from labeling. In a real application, we would likely want to tag more than 20 candidates."
   ]
  },
  {
   "cell_type": "markdown",
   "metadata": {},
   "source": [
    "Now, we'll retrieve the tags and add them to our `DDLiteModel`. We can also use a previously defined Mindtagger label set, similar to how we added our gold labels (this time, we'll use indexes instead of uids). These labels are used for evaluating our labeling functions against the *development set*."
   ]
  },
  {
   "cell_type": "markdown",
   "metadata": {},
   "source": [
    "## Writing labeling functions\n",
    "We'll use data programming to learn a logistic regression model which will predict the probability of a candidate entity being a true gene mention. Since our training data is not manually labeled, we'll generate many (potentially noisy) labels as a surrogate for precise, manual labels. Feature extraction and model learning are very simple in ddlite. Writing labeling functions is where the real artistry comes in. One of ddlite's goals is to enable rapid prototyping, debugging, and experimenting with labeling functions. These can be used either to create a simple standalone app, or to plug into DeepDive. Labeling functions, or LFs, are functions that take an `Candidate` object. They must return 1 (for a positive label), 0 (for abstaining), or -1 (for a negative example). For now, we'll write a few simple LFs to get started:\n",
    "\n",
    "* The first, second, and third LFs return a positive label if the lemma \"gene\", \"mutant\", or \"express\" appear in a window around the mention, respectively\n",
    "* The third LF returns a positive label if the dependency parent of any of the words in the mention is \"mutation\", and abstains otherwise\n",
    "* The fourth, fifth, and sixth LF return a negative label if the mention candidate contains \"DNA\", \"RNA\", or \"SNP\" respectively (these are common uppercase nouns which are not genes) "
   ]
  },
  {
   "cell_type": "markdown",
   "metadata": {},
   "source": [
    "Our intuition is that the few simple LFs given above won't yield a good model. We'll see this more concretely when we evaluate the labeling functions. For now, let's leave them as is. After writing the LFs, we simply collect them and apply them to mentions. If we define more LFs later, we can apply them incrementally or overwrite all the LFs so far."
   ]
  },
  {
   "cell_type": "markdown",
   "metadata": {},
   "source": [
    "We'll use ddlite's LF assessment utilities to debug and analyze our LFs before running inference. First, we'll generate summary plots which show the following:\n",
    "\n",
    "* Do the LFs cover the data well or do we have many candidates for which all of the LFs abstained?\n",
    "* Is there overlap between the LFs? Do many return positive or negative labels for the same candidate?\n",
    "* Do the LFs conflict with each other? Do candidates tend to have many of one type of label, or a mix?"
   ]
  },
  {
   "cell_type": "markdown",
   "metadata": {},
   "source": [
    "Since our development set is small, we can't evaluate LF performance particularly well. If we observe LFs with very low accuracy, poor generalization, and a sufficiently large sample size, this could be an indication that the LF is buggy."
   ]
  },
  {
   "cell_type": "code",
   "execution_count": 5,
   "metadata": {
    "collapsed": false,
    "scrolled": true
   },
   "outputs": [
    {
     "name": "stdout",
     "output_type": "stream",
     "text": [
      "Begin training for rate=0.01, mu=1e-07\n\tLearning epoch = 0\tGradient mag. = 0.542402\n\tLearning epoch = 250\tGradient mag. = 1.053636\nFinal gradient magnitude for rate=0.01, mu=1e-07: 1.407\nBegin training for rate=0.01, mu=1e-09\n\tLearning epoch = 0\tGradient mag. = 0.251850\n"
     ]
    },
    {
     "name": "stdout",
     "output_type": "stream",
     "text": [
      "\tLearning epoch = 250\tGradient mag. = 0.263958\n\tLearning epoch = 500\tGradient mag. = 0.262820\n"
     ]
    },
    {
     "name": "stdout",
     "output_type": "stream",
     "text": [
      "\tLearning epoch = 750\tGradient mag. = 0.261693\n"
     ]
    },
    {
     "name": "stdout",
     "output_type": "stream",
     "text": [
      "\tLearning epoch = 1000\tGradient mag. = 0.260576\n"
     ]
    },
    {
     "name": "stdout",
     "output_type": "stream",
     "text": [
      "\tLearning epoch = 1250\tGradient mag. = 0.259469\n"
     ]
    },
    {
     "name": "stdout",
     "output_type": "stream",
     "text": [
      "\tLearning epoch = 1500\tGradient mag. = 0.258373\n"
     ]
    },
    {
     "name": "stdout",
     "output_type": "stream",
     "text": [
      "\tLearning epoch = 1750\tGradient mag. = 0.257286\n"
     ]
    },
    {
     "name": "stdout",
     "output_type": "stream",
     "text": [
      "\tLearning epoch = 2000\tGradient mag. = 0.256209\n\tLearning epoch = 2250\tGradient mag. = 0.255142\n"
     ]
    },
    {
     "name": "stdout",
     "output_type": "stream",
     "text": [
      "\tLearning epoch = 2500\tGradient mag. = 0.254084\n\tLearning epoch = 2750\tGradient mag. = 0.253035\n"
     ]
    },
    {
     "name": "stdout",
     "output_type": "stream",
     "text": [
      "Final gradient magnitude for rate=0.01, mu=1e-09: 0.252\nBegin training for rate=0.01, mu=1e-05\n\tLearning epoch = 0\tGradient mag. = 0.251850\n\tLearning epoch = 250\tGradient mag. = 0.263958\n"
     ]
    },
    {
     "name": "stdout",
     "output_type": "stream",
     "text": [
      "\tLearning epoch = 500\tGradient mag. = 0.262821\n\tLearning epoch = 750\tGradient mag. = 0.261694\n"
     ]
    },
    {
     "name": "stdout",
     "output_type": "stream",
     "text": [
      "\tLearning epoch = 1000\tGradient mag. = 0.260578\n\tLearning epoch = 1250\tGradient mag. = 0.259472\n"
     ]
    },
    {
     "name": "stdout",
     "output_type": "stream",
     "text": [
      "\tLearning epoch = 1500\tGradient mag. = 0.258376\n\tLearning epoch = 1750\tGradient mag. = 0.257289\n"
     ]
    },
    {
     "name": "stdout",
     "output_type": "stream",
     "text": [
      "\tLearning epoch = 2000\tGradient mag. = 0.256213\n\tLearning epoch = 2250\tGradient mag. = 0.255146\n"
     ]
    },
    {
     "name": "stdout",
     "output_type": "stream",
     "text": [
      "\tLearning epoch = 2500\tGradient mag. = 0.254089\n\tLearning epoch = 2750\tGradient mag. = 0.253041\n"
     ]
    },
    {
     "name": "stdout",
     "output_type": "stream",
     "text": [
      "Final gradient magnitude for rate=0.01, mu=1e-05: 0.252\nBegin training for rate=0.01, mu=0.001\n\tLearning epoch = 0\tGradient mag. = 0.251850\n\tLearning epoch = 250\tGradient mag. = 0.264000\n"
     ]
    },
    {
     "name": "stdout",
     "output_type": "stream",
     "text": [
      "\tLearning epoch = 500\tGradient mag. = 0.262906\n\tLearning epoch = 750\tGradient mag. = 0.261824\n"
     ]
    },
    {
     "name": "stdout",
     "output_type": "stream",
     "text": [
      "\tLearning epoch = 1000\tGradient mag. = 0.260752\n\tLearning epoch = 1250\tGradient mag. = 0.259693\n"
     ]
    },
    {
     "name": "stdout",
     "output_type": "stream",
     "text": [
      "\tLearning epoch = 1500\tGradient mag. = 0.258644\n\tLearning epoch = 1750\tGradient mag. = 0.257606\n"
     ]
    },
    {
     "name": "stdout",
     "output_type": "stream",
     "text": [
      "\tLearning epoch = 2000\tGradient mag. = 0.256579\n\tLearning epoch = 2250\tGradient mag. = 0.255562\n"
     ]
    },
    {
     "name": "stdout",
     "output_type": "stream",
     "text": [
      "\tLearning epoch = 2500\tGradient mag. = 0.254556\n"
     ]
    },
    {
     "name": "stdout",
     "output_type": "stream",
     "text": [
      "\tLearning epoch = 2750\tGradient mag. = 0.253560\n"
     ]
    },
    {
     "name": "stdout",
     "output_type": "stream",
     "text": [
      "Final gradient magnitude for rate=0.01, mu=0.001: 0.253\nBegin training for rate=0.01, mu=0.1\n\tLearning epoch = 0\tGradient mag. = 0.251850\nSGD converged for mu=0.1 after 10 steps\n"
     ]
    },
    {
     "data": {
      "image/png": "[encoded data removed]",
      "text/plain": [
       "<matplotlib.figure.Figure at 0x7fc068504310>"
      ]
     },
     "metadata": {},
     "output_type": "display_data"
    },
    {
     "name": "stdout",
     "output_type": "stream",
     "text": [
      "CPU times: user 10.4 s, sys: 668 ms, total: 11 s\nWall time: 10.5 s\n"
     ]
    },
    {
     "data": {
      "text/html": [
       "<table><tr><td><b>ID</b></td><td><b># LFs</b></td><td><b>Test set size</b></td><td><b>Model</b></td><td><b>Precision</b></td><td><b>Recall</b></td><td><b>F1</b></td></tr><tr><td>0</td><td>35</td><td>89</td><td>Logistic regression</td><td>0.292</td><td>1.000</td><td>0.452</td></tr></table><table><tr><td><b>LF</b></td></tr><tr><td>LF_investigate</td></tr><tr><td>LF_key</td></tr><tr><td>LF_distance</td></tr><tr><td>LF_keyword</td></tr><tr><td>LF_auxpass</td></tr><tr><td>LF_inbetween</td></tr><tr><td>LF_possible</td></tr><tr><td>LF_explore</td></tr><tr><td>LF_key</td></tr><tr><td>LF_investigate</td></tr><tr><td>LF_yetToBeConfirmed</td></tr><tr><td>LF_notAssociated</td></tr><tr><td>LF_notRelated</td></tr><tr><td>LF_doesNotShow</td></tr><tr><td>LF_notLinked</td></tr><tr><td>LF_notCorrelated</td></tr><tr><td>LF_disprove</td></tr><tr><td>LF_doesNotSignify</td></tr><tr><td>LF_doesNotIndicate</td></tr><tr><td>LF_doesNotImply</td></tr><tr><td>LF_studies</td></tr><tr><td>LF_studies2</td></tr><tr><td>LF_studies3</td></tr><tr><td>LF_studies4</td></tr><tr><td>LF_interesting</td></tr><tr><td>LF_discussion</td></tr><tr><td>LF_conclusion</td></tr><tr><td>LF_recently</td></tr><tr><td>LF_induced</td></tr><tr><td>LF_treatment</td></tr><tr><td>LF_isaBiomarker</td></tr><tr><td>LF_marker</td></tr><tr><td>LF_suspect</td></tr><tr><td>LF_mark</td></tr><tr><td>LF_People</td></tr></table>"
      ],
      "text/plain": [
       "<table><tr><td><b>ID</b></td><td><b># LFs</b></td><td><b>Test set size</b></td><td><b>Model</b></td><td><b>Precision</b></td><td><b>Recall</b></td><td><b>F1</b></td></tr><tr><td>0</td><td>35</td><td>89</td><td>Logistic regression</td><td>0.292</td><td>1.000</td><td>0.452</td></tr></table><table><tr><td><b>LF</b></td></tr><tr><td>LF_investigate</td></tr><tr><td>LF_key</td></tr><tr><td>LF_distance</td></tr><tr><td>LF_keyword</td></tr><tr><td>LF_auxpass</td></tr><tr><td>LF_inbetween</td></tr><tr><td>LF_possible</td></tr><tr><td>LF_explore</td></tr><tr><td>LF_key</td></tr><tr><td>LF_investigate</td></tr><tr><td>LF_yetToBeConfirmed</td></tr><tr><td>LF_notAssociated</td></tr><tr><td>LF_notRelated</td></tr><tr><td>LF_doesNotShow</td></tr><tr><td>LF_notLinked</td></tr><tr><td>LF_notCorrelated</td></tr><tr><td>LF_disprove</td></tr><tr><td>LF_doesNotSignify</td></tr><tr><td>LF_doesNotIndicate</td></tr><tr><td>LF_doesNotImply</td></tr><tr><td>LF_studies</td></tr><tr><td>LF_studies2</td></tr><tr><td>LF_studies3</td></tr><tr><td>LF_studies4</td></tr><tr><td>LF_interesting</td></tr><tr><td>LF_discussion</td></tr><tr><td>LF_conclusion</td></tr><tr><td>LF_recently</td></tr><tr><td>LF_induced</td></tr><tr><td>LF_treatment</td></tr><tr><td>LF_isaBiomarker</td></tr><tr><td>LF_marker</td></tr><tr><td>LF_suspect</td></tr><tr><td>LF_mark</td></tr><tr><td>LF_People</td></tr></table>"
      ]
     },
     "execution_count": 5,
     "metadata": {},
     "output_type": "execute_result"
    }
   ],
   "source": [
    "matplotlib.rcParams['figure.figsize'] = (12,4)\n",
    "mu_seq = np.ravel([1e-9, 1e-5, 1e-3, 1e-1])\n",
    "lf_opts = {'sample': False, 'verbose': True}\n",
    "model_opts = {'sample': False, 'n_iter': 3000, 'alpha': 0.5, 'mu': mu_seq, 'bias': False, 'verbose': True}\n",
    "%time DDL.train_model(method='lr', lf_opts=lf_opts, model_opts=model_opts)"
   ]
  },
  {
   "cell_type": "markdown",
   "metadata": {},
   "source": [
    "We can use [DeepDive-style calibration plots](http://deepdive.stanford.edu/calibration) to evaluate the quality of our predictions."
   ]
  },
  {
   "cell_type": "code",
   "execution_count": 6,
   "metadata": {
    "collapsed": false
   },
   "outputs": [
    {
     "name": "stderr",
     "output_type": "stream",
     "text": [
      "/usr/local/lib/python2.7/dist-packages/numpy/core/_methods.py:59: RuntimeWarning: Mean of empty slice.\n  warnings.warn(\"Mean of empty slice.\", RuntimeWarning)\n"
     ]
    },
    {
     "data": {
      "image/png": "[encoded data removed]",
      "text/plain": [
       "<matplotlib.figure.Figure at 0x7fc0289f8450>"
      ]
     },
     "metadata": {},
     "output_type": "display_data"
    }
   ],
   "source": [
    "DDL.plot_calibration()"
   ]
  },
  {
   "cell_type": "markdown",
   "metadata": {},
   "source": [
    "Since we used pipeline learning, we can also see the gain in accuracy we got from using features and not just LFs as a collection of rules."
   ]
  },
  {
   "cell_type": "code",
   "execution_count": 22,
   "metadata": {
    "collapsed": false
   },
   "outputs": [
    {
     "name": "stdout",
     "output_type": "stream",
     "text": [
      "0.0\nLF accuracy: 0.661\nFull model accuracy: 0.000\n"
     ]
    }
   ],
   "source": [
    "idxs, gt = DDL.get_labeled_ground_truth(subset=DDL.holdout())\n",
    "acc_feats = np.mean(DDL.get_predicted(subset=DDL.holdout()) == gt)\n",
    "\n",
    "acc_lfs = np.mean(DDL.get_lf_predicted(subset=DDL.holdout()) == gt)\n",
    "print \"LF accuracy: {:.3f}\\nFull model accuracy: {:.3f}\".format(acc_lfs, acc_feats)"
   ]
  },
  {
   "cell_type": "markdown",
   "metadata": {},
   "source": [
    "## Iterating with labeling functions\n",
    "After analyzing our LFs and obtaining model results, we can revise our LF set. We can see all of the results thus far, and reopen MindTagger to see some mentions that aren't currently covered by LFs."
   ]
  },
  {
   "cell_type": "code",
   "execution_count": 8,
   "metadata": {
    "collapsed": false
   },
   "outputs": [
    {
     "data": {
      "text/html": [
       "<table><tr><td><b>ID</b></td><td><b># LFs</b></td><td><b>Test set size</b></td><td><b>Model</b></td><td><b>Precision</b></td><td><b>Recall</b></td><td><b>F1</b></td></tr><tr><td>0</td><td>35</td><td>89</td><td>Logistic regression</td><td>0.292</td><td>1.000</td><td>0.452</td></tr></table>"
      ],
      "text/plain": [
       "<table><tr><td><b>ID</b></td><td><b># LFs</b></td><td><b>Test set size</b></td><td><b>Model</b></td><td><b>Precision</b></td><td><b>Recall</b></td><td><b>F1</b></td></tr><tr><td>0</td><td>35</td><td>89</td><td>Logistic regression</td><td>0.292</td><td>1.000</td><td>0.452</td></tr></table>"
      ]
     },
     "execution_count": 8,
     "metadata": {},
     "output_type": "execute_result"
    }
   ],
   "source": [
    "DDL.show_log()"
   ]
  },
  {
   "cell_type": "code",
   "execution_count": 9,
   "metadata": {
    "collapsed": false
   },
   "outputs": [
    {
     "name": "stdout",
     "output_type": "stream",
     "text": [
      "Making sure MindTagger is installed. Hang on!\n"
     ]
    },
    {
     "ename": "OSError",
     "evalue": "Mindtagger task data could not be prepared: (<type 'exceptions.StopIteration'>, StopIteration(), <traceback object at 0x7fc028961e18>)",
     "traceback": [
      "\u001b[1;31m---------------------------------------------------------------------------\u001b[0m",
      "\u001b[1;31mOSError\u001b[0m                                   Traceback (most recent call last)",
      "\u001b[1;32m<ipython-input-9-4bc0cf2be162>\u001b[0m in \u001b[0;36m<module>\u001b[1;34m()\u001b[0m\n\u001b[1;32m----> 1\u001b[1;33m \u001b[0mDDL\u001b[0m\u001b[1;33m.\u001b[0m\u001b[0mopen_mindtagger\u001b[0m\u001b[1;33m(\u001b[0m\u001b[0mwidth\u001b[0m\u001b[1;33m=\u001b[0m\u001b[1;34m'100%'\u001b[0m\u001b[1;33m,\u001b[0m \u001b[0mheight\u001b[0m\u001b[1;33m=\u001b[0m\u001b[1;36m1200\u001b[0m\u001b[1;33m,\u001b[0m \u001b[0mabstain\u001b[0m\u001b[1;33m=\u001b[0m\u001b[0mTrue\u001b[0m\u001b[1;33m)\u001b[0m\u001b[1;33m\u001b[0m\u001b[0m\n\u001b[0m",
      "\u001b[1;32m/home/varun/Documents/Marker-Reader/ddlite.pyc\u001b[0m in \u001b[0;36mopen_mindtagger\u001b[1;34m(self, num_sample, abstain, **kwargs)\u001b[0m\n\u001b[0;32m   1264\u001b[0m     return self.mindtagger_instance.open_mindtagger(self.C.generate_mindtagger_items,\n\u001b[0;32m   1265\u001b[0m                                                     \u001b[0mself\u001b[0m\u001b[1;33m.\u001b[0m\u001b[0m_current_mindtagger_samples\u001b[0m\u001b[1;33m,\u001b[0m\u001b[1;33m\u001b[0m\u001b[0m\n\u001b[1;32m-> 1266\u001b[1;33m                                                     probs, tags, **kwargs)\n\u001b[0m\u001b[0;32m   1267\u001b[0m \u001b[1;33m\u001b[0m\u001b[0m\n\u001b[0;32m   1268\u001b[0m   \u001b[1;32mdef\u001b[0m \u001b[0madd_mindtagger_tags\u001b[0m\u001b[1;33m(\u001b[0m\u001b[0mself\u001b[0m\u001b[1;33m)\u001b[0m\u001b[1;33m:\u001b[0m\u001b[1;33m\u001b[0m\u001b[0m\n",
      "\u001b[1;32m/home/varun/Documents/Marker-Reader/ddlite_mindtagger.pyc\u001b[0m in \u001b[0;36mopen_mindtagger\u001b[1;34m(self, generate_mt_items, sample, probs, tags, **kwargs)\u001b[0m\n\u001b[0;32m    132\u001b[0m \u001b[1;33m\u001b[0m\u001b[0m\n\u001b[0;32m    133\u001b[0m     \u001b[1;31m# launch Mindtagger\u001b[0m\u001b[1;33m\u001b[0m\u001b[1;33m\u001b[0m\u001b[0m\n\u001b[1;32m--> 134\u001b[1;33m     \u001b[0murl\u001b[0m \u001b[1;33m=\u001b[0m \u001b[0mself\u001b[0m\u001b[1;33m.\u001b[0m\u001b[0mlaunch_mindtagger\u001b[0m\u001b[1;33m(\u001b[0m\u001b[0mtask_name\u001b[0m\u001b[1;33m,\u001b[0m \u001b[0mgenerate_items\u001b[0m\u001b[1;33m,\u001b[0m \u001b[0mtags\u001b[0m\u001b[1;33m=\u001b[0m\u001b[0mtags\u001b[0m\u001b[1;33m,\u001b[0m \u001b[1;33m**\u001b[0m\u001b[0mkwargs\u001b[0m\u001b[1;33m)\u001b[0m\u001b[1;33m\u001b[0m\u001b[0m\n\u001b[0m\u001b[0;32m    135\u001b[0m \u001b[1;33m\u001b[0m\u001b[0m\n\u001b[0;32m    136\u001b[0m     \u001b[1;31m# return an iframe\u001b[0m\u001b[1;33m\u001b[0m\u001b[1;33m\u001b[0m\u001b[0m\n",
      "\u001b[1;32m/home/varun/Documents/Marker-Reader/ddlite_mindtagger.pyc\u001b[0m in \u001b[0;36mlaunch_mindtagger\u001b[1;34m(self, task_name, generate_items, task_root, task_recreate, tags, **kwargs)\u001b[0m\n\u001b[0;32m    101\u001b[0m             \u001b[0mo\u001b[0m\u001b[1;33m.\u001b[0m\u001b[0mwriterow\u001b[0m\u001b[1;33m(\u001b[0m\u001b[0mitem\u001b[0m\u001b[1;33m)\u001b[0m\u001b[1;33m\u001b[0m\u001b[0m\n\u001b[0;32m    102\u001b[0m       \u001b[1;32mexcept\u001b[0m\u001b[1;33m:\u001b[0m\u001b[1;33m\u001b[0m\u001b[0m\n\u001b[1;32m--> 103\u001b[1;33m         \u001b[1;32mraise\u001b[0m \u001b[0mOSError\u001b[0m\u001b[1;33m(\u001b[0m\u001b[1;34m\"Mindtagger task data could not be prepared: %s\"\u001b[0m \u001b[1;33m%\u001b[0m \u001b[0mstr\u001b[0m\u001b[1;33m(\u001b[0m\u001b[0msys\u001b[0m\u001b[1;33m.\u001b[0m\u001b[0mexc_info\u001b[0m\u001b[1;33m(\u001b[0m\u001b[1;33m)\u001b[0m\u001b[1;33m)\u001b[0m\u001b[1;33m)\u001b[0m\u001b[1;33m\u001b[0m\u001b[0m\n\u001b[0m\u001b[0;32m    104\u001b[0m \u001b[1;33m\u001b[0m\u001b[0m\n\u001b[0;32m    105\u001b[0m     \u001b[0mself\u001b[0m\u001b[1;33m.\u001b[0m\u001b[0minstance\u001b[0m \u001b[1;33m=\u001b[0m \u001b[0margs\u001b[0m\u001b[1;33m\u001b[0m\u001b[0m\n",
      "\u001b[1;31mOSError\u001b[0m: Mindtagger task data could not be prepared: (<type 'exceptions.StopIteration'>, StopIteration(), <traceback object at 0x7fc028961e18>)"
     ],
     "output_type": "error"
    }
   ],
   "source": [
    "DDL.open_mindtagger(width='100%', height=1200, abstain=True)"
   ]
  },
  {
   "cell_type": "code",
   "execution_count": null,
   "metadata": {
    "collapsed": true
   },
   "outputs": [],
   "source": [
    ""
   ]
  },
  {
   "cell_type": "code",
   "execution_count": null,
   "metadata": {
    "collapsed": true
   },
   "outputs": [],
   "source": [
    ""
   ]
  },
  {
   "cell_type": "code",
   "execution_count": null,
   "metadata": {
    "collapsed": true
   },
   "outputs": [],
   "source": [
    ""
   ]
  }
 ],
 "metadata": {
  "kernelspec": {
   "display_name": "Python 2",
   "language": "python",
   "name": "python2"
  },
  "language_info": {
   "codemirror_mode": {
    "name": "ipython",
    "version": 2.0
   },
   "file_extension": ".py",
   "mimetype": "text/x-python",
   "name": "python",
   "nbconvert_exporter": "python",
   "pygments_lexer": "ipython2",
   "version": "2.7.11+"
  }
 },
 "nbformat": 4,
 "nbformat_minor": 0
}