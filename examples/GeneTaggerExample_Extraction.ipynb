{
 "cells": [
  {
   "cell_type": "markdown",
   "metadata": {},
   "source": [
    "# Tagging genes with ddlite: candidate extraction\n",
    "\n",
    "## Introduction\n",
    "In this example **ddlite** app, we'll build a gene tagger from scratch. Domain-specific tagging systems take months or years to develop. They use hand-crafted model circuitry and accurate, hand-labeled training data. We'll start to build a pretty good one in a few minutes with none of those things. The generalized extraction and learning utilities provided by ddlite will allow us to turn a sampling of article abstracts and some basic domain knowledge into an automated tagging system. Specifically, we want an accurate tagger for genes in academic articles. We have comprehensive dictionaries of genes, but applying a simple matching rule might yield a lot of false positives. For example, \"p53\" might get tagged as a gene if it refers to a page number. Our goal is to use distant supervision to improve precision.\n",
    "\n",
    "Here's the pipeline we'll follow:\n",
    "\n",
    "1. Obtain and parse input data (relevant article abstracts from PubMed)\n",
    "2. Extract candidates for tagging\n",
    "3. Generate features\n",
    "4. Create a test set\n",
    "5. Write labeling functions\n",
    "6. Learn the tagging model\n",
    "7. Iterate on labeling functions\n",
    "\n",
    "Parts 1 and 2 are covered in this notebook, and parts 3 through 7 are covered in `GeneTaggerExample_Learning.ipynb`. Let's get to it."
   ]
  },
  {
   "cell_type": "code",
   "execution_count": 1,
   "metadata": {
    "collapsed": false
   },
   "outputs": [
    {
     "name": "stdout",
     "output_type": "stream",
     "text": [
      "The autoreload extension is already loaded. To reload it, use:\n",
      "  %reload_ext autoreload\n"
     ]
    }
   ],
   "source": [
    "%load_ext autoreload\n",
    "%autoreload 2\n",
    "import cPickle, os, sys"
   ]
  },
  {
   "cell_type": "markdown",
   "metadata": {},
   "source": [
    "## Processing the input data\n",
    "We already downloaded the raw HTML for 150 gene-related article pages from PubMed using the `pubmed_gene_html.py` script. These can be found in the `data` folder. We can use ddlite's `DocParser` to read in the article text. There's a general HTML parser which finds visible text, but we can do better by writing a more specific version to just grab the abstract text.\n",
    "\n",
    "We'll use CoreNLP via ddlite's `SentenceParser` to parse each sentence. `DocParser` can handle this too; we didn't really need that call above. This can take a little while, so if the example has already been run, we'll reload it."
   ]
  },
  {
   "cell_type": "code",
   "execution_count": 2,
   "metadata": {
    "collapsed": false
   },
   "outputs": [
    {
     "name": "stdout",
     "output_type": "stream",
     "text": [
      "Parsing documents...\n",
      "Parsing contexts...\n",
      "CPU times: user 8.23 s, sys: 97.8 ms, total: 8.32 s\n",
      "Wall time: 20.1 s\n"
     ]
    }
   ],
   "source": [
    "from snorkel.parser import HTMLDocParser, SentenceParser\n",
    "from snorkel.parser import Corpus\n",
    "\n",
    "class PubMedAbstractReader(HTMLDocParser):\n",
    "    def _cleaner(self, s):\n",
    "        return (s.parent.name == 'abstracttext')\n",
    "\n",
    "doc_parser = PubMedAbstractReader('gene_tag_example/data/')\n",
    "\n",
    "sent_parser = SentenceParser()\n",
    "\n",
    "%time corpus = Corpus(doc_parser, sent_parser)"
   ]
  },
  {
   "cell_type": "code",
   "execution_count": 3,
   "metadata": {
    "collapsed": false
   },
   "outputs": [
    {
     "name": "stdout",
     "output_type": "stream",
     "text": [
      "150\n"
     ]
    },
    {
     "data": {
      "text/plain": [
       "Document(id='6202659', file='6202659.html', text='In this study, we have correlated the hematological phenotype of 56 Sardinian beta o-thalassemia heterozygotes with their alpha-globin genotype as defined by restriction endonuclease mapping. We found that the coinheritance of the deletion of one alpha-globin and, more obviously, two alpha-globin genes tend to normalize the thalassemia-like hematological phenotype commonly associated with the beta o-thalassemia carrier state. On the other hand, the association of the deletion of three alpha-globin genes caused a more severe phenotype. By globin chain synthesis analysis, those beta o-thalassemia heterozygotes with the (-alpha/alpha alpha) alpha-globin genotype had less deficiency of beta-chain synthesis than did those with the normal alpha-globin genotype (alpha alpha/alpha alpha). In heterozygotes with the (-alpha/-alpha) and in those with the (--/-alpha) alpha-globin genotype the imbalance was actually reversed with a mild or marked alpha-chain synthesis excess respectively.', attribs={})"
      ]
     },
     "execution_count": 3,
     "metadata": {},
     "output_type": "execute_result"
    }
   ],
   "source": [
    "docs = list(corpus.get_docs())\n",
    "print len(docs)\n",
    "docs[0]"
   ]
  },
  {
   "cell_type": "code",
   "execution_count": 4,
   "metadata": {
    "collapsed": false
   },
   "outputs": [
    {
     "name": "stdout",
     "output_type": "stream",
     "text": [
      "1225\n"
     ]
    },
    {
     "data": {
      "text/plain": [
       "Sentence(id='17217236-8', words=[u'We', u'analyzed', u'genotypes', u'and', u'alleles', u'of', u'the', u'5-HTTLPR', u'polymorphism', u'in', u'the', u'group', u'of', u'patients', u'and', u'in', u'the', u'control', u'group', u'.'], lemmas=[u'we', u'analyze', u'genotype', u'and', u'allele', u'of', u'the', u'5-httlpr', u'polymorphism', u'in', u'the', u'group', u'of', u'patient', u'and', u'in', u'the', u'control', u'group', u'.'], poses=[u'PRP', u'VBD', u'NNS', u'CC', u'NNS', u'IN', u'DT', u'NN', u'NN', u'IN', u'DT', u'NN', u'IN', u'NNS', u'CC', u'IN', u'DT', u'NN', u'NN', u'.'], dep_parents=[2, 0, 2, 3, 3, 9, 9, 9, 3, 12, 12, 9, 14, 12, 2, 19, 19, 19, 2, 2], dep_labels=[u'nsubj', u'ROOT', u'dobj', u'cc', u'conj', u'case', u'det', u'compound', u'nmod', u'case', u'det', u'nmod', u'case', u'nmod', u'cc', u'case', u'det', u'compound', u'conj', u'punct'], sent_id=8, doc_id='17217236', text=u'We analyzed genotypes and alleles of the 5-HTTLPR polymorphism in the group of patients and in the control group.', char_offsets=[868, 871, 880, 890, 894, 902, 905, 909, 918, 931, 934, 938, 944, 947, 956, 960, 963, 967, 975, 980], doc_name='17217236.html')"
      ]
     },
     "execution_count": 4,
     "metadata": {},
     "output_type": "execute_result"
    }
   ],
   "source": [
    "sents = list(corpus.get_contexts())\n",
    "print len(sents)\n",
    "sents[0]"
   ]
  },
  {
   "cell_type": "markdown",
   "metadata": {},
   "source": [
    "## Extracting candidates with matchers\n",
    "Extracting candidates for mentions (or relations) in ddlite is done with `Matcher` objects. First, we'll use a `DictionaryMatcher`. We have access to a pretty comprehensive gene dictionary. Let's load it in and create the `DictionaryMatcher`."
   ]
  },
  {
   "cell_type": "code",
   "execution_count": 6,
   "metadata": {
    "collapsed": false
   },
   "outputs": [],
   "source": [
    "from snorkel.matchers import DictionaryMatch\n",
    "\n",
    "# Schema is: ENSEMBL_ID | NAME | TYPE (refseq, canonical, non-canonical)\n",
    "genes = [line.rstrip().split('\\t')[1] for line in open('gene_tag_example/dicts/ensembl_genes.tsv')]\n",
    "genes = filter(lambda g : len(g) > 2, genes)\n",
    "\n",
    "gene_dm = DictionaryMatch(d=genes, ignore_case=False)"
   ]
  },
  {
   "cell_type": "markdown",
   "metadata": {},
   "source": [
    "The dictionary match should provide fairly high recall, but we may still miss some candidates. We know that gene names are named nouns and are often all uppercase. Let's use DDLite's *compositional* matcher operations to handle this. First, we'll write a matcher to find all nouns using the parts-of-speech tags. Then, we'll use a filter to find uppercase sequences. Finally, we'll use a filter to make sure each match has at least 3 characters. We pass `noun_rm` to `up_rm`, and `up_rm` to the final filter to compose them with each other."
   ]
  },
  {
   "cell_type": "code",
   "execution_count": 7,
   "metadata": {
    "collapsed": true
   },
   "outputs": [],
   "source": [
    "from snorkel.matchers import RegexMatchSpan, RegexMatchEach\n",
    "\n",
    "noun_regex  = RegexMatchEach(rgx=r'NN.*', attrib='poses')\n",
    "up_regex    = RegexMatchSpan(noun_regex, rgx=r'[A-Z]+([0-9]+)?([A-Z]+)?([0-9]+)?$', ignore_case=False, attrib='words')\n",
    "multi_regex = RegexMatchSpan(up_regex, rgx=r'[a-z0-9]{3,}', ignore_case=True, attrib='words')"
   ]
  },
  {
   "cell_type": "markdown",
   "metadata": {},
   "source": [
    "Now, we put it all together (as a legacy `CandidateExtractor` object):"
   ]
  },
  {
   "cell_type": "code",
   "execution_count": 8,
   "metadata": {
    "collapsed": true
   },
   "outputs": [],
   "source": [
    "from snorkel.candidates import Ngrams\n",
    "from snorkel.matchers import Union, CandidateExtractor\n",
    "\n",
    "ngrams = Ngrams(n_max=3)\n",
    "\n",
    "CE = CandidateExtractor(ngrams, Union(gene_dm, multi_regex))"
   ]
  },
  {
   "cell_type": "markdown",
   "metadata": {},
   "source": [
    "## Creating the candidates\n",
    "We'll use our unioned candidate extractor to extract our candidate entities from the sentences into an `Entities` object. Using both matchers together will provide very high recall, but may have poor precision. In the next demo notebook (`GeneTaggerExample_Learning.ipynb`), we'll write distant supervision rules and learn a model to improve precision."
   ]
  },
  {
   "cell_type": "code",
   "execution_count": 9,
   "metadata": {
    "collapsed": false
   },
   "outputs": [
    {
     "name": "stderr",
     "output_type": "stream",
     "text": [
      "/Library/Python/2.7/site-packages/matplotlib/__init__.py:1350: UserWarning:  This call to matplotlib.use() has no effect\n",
      "because the backend has already been chosen;\n",
      "matplotlib.use() must be called *before* pylab, matplotlib.pyplot,\n",
      "or matplotlib.backends is imported for the first time.\n",
      "\n",
      "  warnings.warn(_use_error_msg)\n",
      "/System/Library/Frameworks/Python.framework/Versions/2.7/Extras/lib/python/scipy/lib/_util.py:35: DeprecationWarning: Module scipy.linalg.blas.fblas is deprecated, use scipy.linalg.blas instead\n",
      "  DeprecationWarning)\n",
      "/System/Library/Frameworks/Python.framework/Versions/2.7/Extras/lib/python/scipy/lib/_util.py:35: DeprecationWarning: Module scipy.linalg.blas.fblas is deprecated, use scipy.linalg.blas instead\n",
      "  DeprecationWarning)\n",
      "/System/Library/Frameworks/Python.framework/Versions/2.7/Extras/lib/python/scipy/lib/_util.py:35: DeprecationWarning: Module scipy.linalg.blas.fblas is deprecated, use scipy.linalg.blas instead\n",
      "  DeprecationWarning)\n",
      "/System/Library/Frameworks/Python.framework/Versions/2.7/Extras/lib/python/scipy/lib/_util.py:35: DeprecationWarning: Module scipy.linalg.blas.fblas is deprecated, use scipy.linalg.blas instead\n",
      "  DeprecationWarning)\n",
      "/System/Library/Frameworks/Python.framework/Versions/2.7/Extras/lib/python/scipy/lib/_util.py:35: DeprecationWarning: Module scipy.linalg.blas.fblas is deprecated, use scipy.linalg.blas instead\n",
      "  DeprecationWarning)\n",
      "/System/Library/Frameworks/Python.framework/Versions/2.7/Extras/lib/python/scipy/lib/_util.py:35: DeprecationWarning: Module scipy.linalg.blas.fblas is deprecated, use scipy.linalg.blas instead\n",
      "  DeprecationWarning)\n",
      "/System/Library/Frameworks/Python.framework/Versions/2.7/Extras/lib/python/scipy/lib/_util.py:35: DeprecationWarning: Module scipy.linalg.blas.fblas is deprecated, use scipy.linalg.blas instead\n",
      "  DeprecationWarning)\n",
      "/System/Library/Frameworks/Python.framework/Versions/2.7/Extras/lib/python/scipy/lib/_util.py:35: DeprecationWarning: Module scipy.linalg.blas.fblas is deprecated, use scipy.linalg.blas instead\n",
      "  DeprecationWarning)\n"
     ]
    }
   ],
   "source": [
    "from snorkel.snorkel import Entities\n",
    "\n",
    "E = Entities(sents, CE)"
   ]
  },
  {
   "cell_type": "markdown",
   "metadata": {},
   "source": [
    "We can visualize contexts for our extractions too. This may help in writing labeling functions in `GeneTaggerExample_Learning.ipynb`."
   ]
  },
  {
   "cell_type": "code",
   "execution_count": 10,
   "metadata": {
    "collapsed": false
   },
   "outputs": [
    {
     "data": {
      "text/html": [
       "<style>\n",
       ".node {\n",
       "  cursor: pointer;\n",
       "}\n",
       "\n",
       ".node circle {\n",
       "  fill: #fff;\n",
       "  stroke: steelblue;\n",
       "  stroke-width: 3px;\n",
       "}\n",
       "\n",
       ".node text {\n",
       "  font: 12px sans-serif;\n",
       "}\n",
       "\n",
       ".edge {\n",
       "  fill: none;\n",
       "  stroke: #ccc;\n",
       "  stroke-width: 2px;\n",
       "  cursor: pointer;\n",
       "}\n",
       "\n",
       ".highlight {\n",
       "  stroke: red;\n",
       "  stroke-width: 3px;\n",
       "}\n",
       "</style>\n",
       "\n",
       "<!--Provide the canvas id (twice) and the words via python string formatting here--!>\n",
       "<div id=\"tree-chart-6741767841335955913\"></div>\n",
       "<div id=\"raw-seq-6741767841335955913\">\n",
       "<span class=\"word-6741767841335955913-0\">Using</span> <span class=\"word-6741767841335955913-1\">the</span> <span class=\"word-6741767841335955913-2\">SCID</span> <span class=\"word-6741767841335955913-3\">(</span> <span class=\"word-6741767841335955913-4\">Structured</span> <span class=\"word-6741767841335955913-5\">Clinical</span> <span class=\"word-6741767841335955913-6\">Interview</span> <span class=\"word-6741767841335955913-7\">for</span> <span class=\"word-6741767841335955913-8\">DSM-IV</span> <span class=\"word-6741767841335955913-9\">Axis</span> <span class=\"word-6741767841335955913-10\">I</span> <span class=\"word-6741767841335955913-11\">Disorders</span> <span class=\"word-6741767841335955913-12\">)</span> <span class=\"word-6741767841335955913-13\">a</span> <span class=\"word-6741767841335955913-14\">consensus</span> <span class=\"word-6741767841335955913-15\">diagnosis</span> <span class=\"word-6741767841335955913-16\">,</span> <span class=\"word-6741767841335955913-17\">according</span> <span class=\"word-6741767841335955913-18\">to</span> <span class=\"word-6741767841335955913-19\">the</span> <span class=\"word-6741767841335955913-20\">DSM-IV</span> <span class=\"word-6741767841335955913-21\">criteria</span> <span class=\"word-6741767841335955913-22\">was</span> <span class=\"word-6741767841335955913-23\">made</span> <span class=\"word-6741767841335955913-24\">by</span> <span class=\"word-6741767841335955913-25\">two</span> <span class=\"word-6741767841335955913-26\">independent</span> <span class=\"word-6741767841335955913-27\">psychiatrists</span> <span class=\"word-6741767841335955913-28\">for</span> <span class=\"word-6741767841335955913-29\">each</span> <span class=\"word-6741767841335955913-30\">patient</span> <span class=\"word-6741767841335955913-31\">.</span>\n",
       "</div>\n"
      ]
     },
     "metadata": {},
     "output_type": "display_data"
    },
    {
     "data": {
      "application/javascript": [
       "$.getScript(\"http://d3js.org/d3.v3.min.js\", function () {\n",
       "// See http://bl.ocks.org/d3noob/8375092\n",
       "// Three vars need to be provided via python string formatting:\n",
       "var chartId = \"6741767841335955913\";\n",
       "var root = {\"attrib\": {\"word\": \"Using\", \"char_offset\": \"339\", \"pos\": \"VBG\", \"lemma\": \"use\", \"dep_label\": \"ROOT\", \"word_idx\": \"0\", \"dep_parent\": \"0\"}, \"children\": [{\"attrib\": {\"word\": \"Interview\", \"char_offset\": \"375\", \"pos\": \"NN\", \"lemma\": \"interview\", \"dep_label\": \"dobj\", \"word_idx\": \"6\", \"dep_parent\": \"1\"}, \"children\": [{\"attrib\": {\"word\": \"the\", \"char_offset\": \"345\", \"pos\": \"DT\", \"lemma\": \"the\", \"dep_label\": \"det\", \"word_idx\": \"1\", \"dep_parent\": \"7\"}, \"children\": []}, {\"attrib\": {\"word\": \"SCID\", \"char_offset\": \"349\", \"pos\": \"NN\", \"lemma\": \"scid\", \"dep_label\": \"compound\", \"word_idx\": \"2\", \"dep_parent\": \"7\"}, \"children\": []}, {\"attrib\": {\"word\": \"-LRB-\", \"char_offset\": \"354\", \"pos\": \"-LRB-\", \"lemma\": \"-lrb-\", \"dep_label\": \"punct\", \"word_idx\": \"3\", \"dep_parent\": \"7\"}, \"children\": []}, {\"attrib\": {\"word\": \"Structured\", \"char_offset\": \"355\", \"pos\": \"JJ\", \"lemma\": \"structured\", \"dep_label\": \"amod\", \"word_idx\": \"4\", \"dep_parent\": \"7\"}, \"children\": []}, {\"attrib\": {\"word\": \"Clinical\", \"char_offset\": \"366\", \"pos\": \"JJ\", \"lemma\": \"clinical\", \"dep_label\": \"amod\", \"word_idx\": \"5\", \"dep_parent\": \"7\"}, \"children\": []}, {\"attrib\": {\"word\": \"Disorders\", \"char_offset\": \"403\", \"pos\": \"NNPS\", \"lemma\": \"Disorders\", \"dep_label\": \"nmod\", \"word_idx\": \"11\", \"dep_parent\": \"7\"}, \"children\": [{\"attrib\": {\"word\": \"for\", \"char_offset\": \"385\", \"pos\": \"IN\", \"lemma\": \"for\", \"dep_label\": \"case\", \"word_idx\": \"7\", \"dep_parent\": \"12\"}, \"children\": []}, {\"attrib\": {\"word\": \"DSM-IV\", \"char_offset\": \"389\", \"pos\": \"NN\", \"lemma\": \"dsm-iv\", \"dep_label\": \"compound\", \"word_idx\": \"8\", \"dep_parent\": \"12\"}, \"children\": []}, {\"attrib\": {\"word\": \"Axis\", \"char_offset\": \"396\", \"pos\": \"NNP\", \"lemma\": \"Axis\", \"dep_label\": \"compound\", \"word_idx\": \"9\", \"dep_parent\": \"12\"}, \"children\": []}, {\"attrib\": {\"word\": \"I\", \"char_offset\": \"401\", \"pos\": \"PRP\", \"lemma\": \"I\", \"dep_label\": \"compound\", \"word_idx\": \"10\", \"dep_parent\": \"12\"}, \"children\": []}, {\"attrib\": {\"word\": \"-RRB-\", \"char_offset\": \"412\", \"pos\": \"-RRB-\", \"lemma\": \"-rrb-\", \"dep_label\": \"punct\", \"word_idx\": \"12\", \"dep_parent\": \"12\"}, \"children\": []}, {\"attrib\": {\"word\": \"diagnosis\", \"char_offset\": \"426\", \"pos\": \"NN\", \"lemma\": \"diagnosis\", \"dep_label\": \"dep\", \"word_idx\": \"15\", \"dep_parent\": \"12\"}, \"children\": [{\"attrib\": {\"word\": \"a\", \"char_offset\": \"414\", \"pos\": \"DT\", \"lemma\": \"a\", \"dep_label\": \"det\", \"word_idx\": \"13\", \"dep_parent\": \"16\"}, \"children\": []}, {\"attrib\": {\"word\": \"consensus\", \"char_offset\": \"416\", \"pos\": \"NN\", \"lemma\": \"consensus\", \"dep_label\": \"compound\", \"word_idx\": \"14\", \"dep_parent\": \"16\"}, \"children\": []}]}]}]}, {\"attrib\": {\"word\": \",\", \"char_offset\": \"435\", \"pos\": \",\", \"lemma\": \",\", \"dep_label\": \"punct\", \"word_idx\": \"16\", \"dep_parent\": \"1\"}, \"children\": []}, {\"attrib\": {\"word\": \"criteria\", \"char_offset\": \"461\", \"pos\": \"NNS\", \"lemma\": \"criterion\", \"dep_label\": \"nmod\", \"word_idx\": \"21\", \"dep_parent\": \"1\"}, \"children\": [{\"attrib\": {\"word\": \"according\", \"char_offset\": \"437\", \"pos\": \"VBG\", \"lemma\": \"accord\", \"dep_label\": \"case\", \"word_idx\": \"17\", \"dep_parent\": \"22\"}, \"children\": [{\"attrib\": {\"word\": \"to\", \"char_offset\": \"447\", \"pos\": \"TO\", \"lemma\": \"to\", \"dep_label\": \"mwe\", \"word_idx\": \"18\", \"dep_parent\": \"18\"}, \"children\": []}]}, {\"attrib\": {\"word\": \"the\", \"char_offset\": \"450\", \"pos\": \"DT\", \"lemma\": \"the\", \"dep_label\": \"det\", \"word_idx\": \"19\", \"dep_parent\": \"22\"}, \"children\": []}, {\"attrib\": {\"word\": \"DSM-IV\", \"char_offset\": \"454\", \"pos\": \"NN\", \"lemma\": \"dsm-iv\", \"dep_label\": \"compound\", \"word_idx\": \"20\", \"dep_parent\": \"22\"}, \"children\": []}, {\"attrib\": {\"word\": \"made\", \"char_offset\": \"474\", \"pos\": \"VBN\", \"lemma\": \"make\", \"dep_label\": \"acl\", \"word_idx\": \"23\", \"dep_parent\": \"22\"}, \"children\": [{\"attrib\": {\"word\": \"was\", \"char_offset\": \"470\", \"pos\": \"VBD\", \"lemma\": \"be\", \"dep_label\": \"auxpass\", \"word_idx\": \"22\", \"dep_parent\": \"24\"}, \"children\": []}, {\"attrib\": {\"word\": \"psychiatrists\", \"char_offset\": \"498\", \"pos\": \"NNS\", \"lemma\": \"psychiatrist\", \"dep_label\": \"nmod\", \"word_idx\": \"27\", \"dep_parent\": \"24\"}, \"children\": [{\"attrib\": {\"word\": \"by\", \"char_offset\": \"479\", \"pos\": \"IN\", \"lemma\": \"by\", \"dep_label\": \"case\", \"word_idx\": \"24\", \"dep_parent\": \"28\"}, \"children\": []}, {\"attrib\": {\"word\": \"two\", \"char_offset\": \"482\", \"pos\": \"CD\", \"lemma\": \"two\", \"dep_label\": \"nummod\", \"word_idx\": \"25\", \"dep_parent\": \"28\"}, \"children\": []}, {\"attrib\": {\"word\": \"independent\", \"char_offset\": \"486\", \"pos\": \"JJ\", \"lemma\": \"independent\", \"dep_label\": \"amod\", \"word_idx\": \"26\", \"dep_parent\": \"28\"}, \"children\": []}, {\"attrib\": {\"word\": \"patient\", \"char_offset\": \"521\", \"pos\": \"NN\", \"lemma\": \"patient\", \"dep_label\": \"nmod\", \"word_idx\": \"30\", \"dep_parent\": \"28\"}, \"children\": [{\"attrib\": {\"word\": \"for\", \"char_offset\": \"512\", \"pos\": \"IN\", \"lemma\": \"for\", \"dep_label\": \"case\", \"word_idx\": \"28\", \"dep_parent\": \"31\"}, \"children\": []}, {\"attrib\": {\"word\": \"each\", \"char_offset\": \"516\", \"pos\": \"DT\", \"lemma\": \"each\", \"dep_label\": \"det\", \"word_idx\": \"29\", \"dep_parent\": \"31\"}, \"children\": []}]}]}]}]}, {\"attrib\": {\"word\": \".\", \"char_offset\": \"528\", \"pos\": \".\", \"lemma\": \".\", \"dep_label\": \"punct\", \"word_idx\": \"31\", \"dep_parent\": \"1\"}, \"children\": []}]};\n",
       "var highlightIdxs = [[2]];\n",
       "\n",
       "// Highlight words / nodes\n",
       "var COLORS = [\"#ff5c33\", \"#ffcc00\", \"#33cc33\", \"#3399ff\"];\n",
       "function highlightWords() {\n",
       "  for (var i=0; i < highlightIdxs.length; i++) {\n",
       "    var c = COLORS[i];\n",
       "    var idxs = highlightIdxs[i];\n",
       "    for (var j=0; j < idxs.length; j++) {\n",
       "      d3.selectAll(\".word-\"+chartId+\"-\"+idxs[j]).style(\"stroke\", c).style(\"background\", c);\n",
       "    }\n",
       "  }\n",
       "}\n",
       "\n",
       "// Constants\n",
       "var margin = {top: 20, right: 20, bottom: 20, left: 20},\n",
       "width = 800 - margin.left - margin.right,\n",
       "height = 350 - margin.top - margin.bottom,\n",
       "R = 5;\n",
       "\n",
       "// Create the d3 tree object\n",
       "var tree = d3.layout.tree()\n",
       "  .size([width, height]);\n",
       "\n",
       "// Create the svg canvas\n",
       "var svg = d3.select(\"#tree-chart-\" + chartId)\n",
       "  .append(\"svg\")\n",
       "  .attr(\"width\", width + margin.left + margin.right)\n",
       "  .attr(\"height\", height + margin.top + margin.bottom)\n",
       "  .append(\"g\")\n",
       "  .attr(\"transform\", \"translate(\" + margin.left + \",\" + margin.top + \")\");\n",
       "\n",
       "function renderTree() {\n",
       "  var nodes = tree.nodes(root),\n",
       "  edges = tree.links(nodes);\n",
       "\n",
       "  // Place the nodes\n",
       "  var nodeGroups = svg.selectAll(\"g.node\")\n",
       "    .data(nodes)\n",
       "    .enter().append(\"g\")\n",
       "    .attr(\"class\", \"node\")\n",
       "    .attr(\"transform\", function(d) { return \"translate(\" + d.x + \",\" + d.y + \")\"; });\n",
       "       \n",
       "  // Append circles\n",
       "  nodeGroups.append(\"circle\")\n",
       "    //.on(\"click\", function() {\n",
       "    //  d3.select(this).classed(\"highlight\", !d3.select(this).classed(\"highlight\")); })\n",
       "    .attr(\"r\", R)\n",
       "    .attr(\"class\", function(d) { return \"word-\"+chartId+\"-\"+d.attrib.word_idx; });\n",
       "     \n",
       "  // Append the actual word\n",
       "  nodeGroups.append(\"text\")\n",
       "    .text(function(d) { return d.attrib.word; })\n",
       "    .attr(\"text-anchor\", function(d) { \n",
       "      return d.children && d.children.length > 0 ? \"start\" : \"middle\"; })\n",
       "    .attr(\"dx\", function(d) { \n",
       "      return d.children && d.children.length > 0 ? R + 3 : 0; })\n",
       "    .attr(\"dy\", function(d) { \n",
       "      return d.children && d.children.length > 0 ? 0 : 3*R + 3; });\n",
       "\n",
       "  // Place the edges\n",
       "  var edgePaths = svg.selectAll(\"path\")\n",
       "    .data(edges)\n",
       "    .enter().append(\"path\")\n",
       "    .attr(\"class\", \"edge\")\n",
       "    .on(\"click\", function() {\n",
       "      d3.select(this).classed(\"highlight\", !d3.select(this).classed(\"highlight\")); })\n",
       "    .attr(\"d\", d3.svg.diagonal());\n",
       "}\n",
       "\n",
       "renderTree();\n",
       "highlightWords();\n",
       "});\n"
      ]
     },
     "metadata": {},
     "output_type": "display_data"
    }
   ],
   "source": [
    "E[0].render()"
   ]
  },
  {
   "cell_type": "markdown",
   "metadata": {},
   "source": [
    "Finally, we'll pickle the extracted candidates from our `Entities` object for use in `GeneTaggerExample_Learning.ipynb`."
   ]
  },
  {
   "cell_type": "code",
   "execution_count": 11,
   "metadata": {
    "collapsed": false
   },
   "outputs": [
    {
     "name": "stderr",
     "output_type": "stream",
     "text": [
      "/Users/aratner/repos/snorkel/snorkel/snorkel.py:190: UserWarning: Overwriting file gene_tag_example/gene_tag_saved_entities_v6.pkl\n",
      "  warnings.warn(\"Overwriting file {}\".format(loc))\n"
     ]
    }
   ],
   "source": [
    "E.dump_candidates('gene_tag_example/gene_tag_saved_entities_v6.pkl')"
   ]
  }
 ],
 "metadata": {
  "kernelspec": {
   "display_name": "Python 2",
   "language": "python",
   "name": "python2"
  },
  "language_info": {
   "codemirror_mode": {
    "name": "ipython",
    "version": 2
   },
   "file_extension": ".py",
   "mimetype": "text/x-python",
   "name": "python",
   "nbconvert_exporter": "python",
   "pygments_lexer": "ipython2",
   "version": "2.7.10"
  },
  "widgets": {
   "state": {},
   "version": "1.1.2"
  }
 },
 "nbformat": 4,
 "nbformat_minor": 0
}
