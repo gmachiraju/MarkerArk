{
 "cells": [
  {
   "cell_type": "markdown",
   "metadata": {},
   "source": [
    "# Tagging genes with ddlite: learning and labeling function iteration\n",
    "\n",
    "## Introduction\n",
    "In this example **ddlite** app, we'll build a gene tagger from scratch. Domain-specific tagging systems take months or years to develop. They use hand-crafted model circuitry and accurate, hand-labeled training data. We'll start to build a pretty good one in a few minutes with none of those things. The generalized extraction and learning utilities provided by ddlite will allow us to turn a sampling of article abstracts and some basic domain knowledge into an automated tagging system. Specifically, we want an accurate tagger for genes in academic articles. We have comprehensive dictionaries of genes, but applying a simple matching rule might yield a lot of false positives. For example, \"p53\" might get tagged as a gene if it refers to a page number. Our goal is to use distant supervision to improve precision.\n",
    "\n",
    "Here's the pipeline we'll follow:\n",
    "\n",
    "1. Obtain and parse input data (relevant article abstracts from PubMed)\n",
    "2. Extract candidates for tagging\n",
    "3. Generate features\n",
    "4. Create a test set\n",
    "5. Write labeling functions\n",
    "6. Learn the tagging model\n",
    "7. Iterate on labeling functions\n",
    "\n",
    "Parts 3 through 7 are covered in this notebook. It requires candidates extracted from `GeneTaggerExample_Extraction.ipynb`, which covers parts 1 and 2."
   ]
  },
  {
   "cell_type": "code",
   "execution_count": 1,
   "metadata": {
    "collapsed": false
   },
   "outputs": [
    {
     "name": "stdout",
     "output_type": "stream",
     "text": [
      "The autoreload extension is already loaded. To reload it, use:\n",
      "  %reload_ext autoreload\n"
     ]
    },
    {
     "name": "stderr",
     "output_type": "stream",
     "text": [
      "/Library/Python/2.7/site-packages/matplotlib/__init__.py:1350: UserWarning:  This call to matplotlib.use() has no effect\n",
      "because the backend has already been chosen;\n",
      "matplotlib.use() must be called *before* pylab, matplotlib.pyplot,\n",
      "or matplotlib.backends is imported for the first time.\n",
      "\n",
      "  warnings.warn(_use_error_msg)\n",
      "/System/Library/Frameworks/Python.framework/Versions/2.7/Extras/lib/python/scipy/lib/_util.py:35: DeprecationWarning: Module scipy.linalg.blas.fblas is deprecated, use scipy.linalg.blas instead\n",
      "  DeprecationWarning)\n",
      "/System/Library/Frameworks/Python.framework/Versions/2.7/Extras/lib/python/scipy/lib/_util.py:35: DeprecationWarning: Module scipy.linalg.blas.fblas is deprecated, use scipy.linalg.blas instead\n",
      "  DeprecationWarning)\n",
      "/System/Library/Frameworks/Python.framework/Versions/2.7/Extras/lib/python/scipy/lib/_util.py:35: DeprecationWarning: Module scipy.linalg.blas.fblas is deprecated, use scipy.linalg.blas instead\n",
      "  DeprecationWarning)\n",
      "/System/Library/Frameworks/Python.framework/Versions/2.7/Extras/lib/python/scipy/lib/_util.py:35: DeprecationWarning: Module scipy.linalg.blas.fblas is deprecated, use scipy.linalg.blas instead\n",
      "  DeprecationWarning)\n",
      "/System/Library/Frameworks/Python.framework/Versions/2.7/Extras/lib/python/scipy/lib/_util.py:35: DeprecationWarning: Module scipy.linalg.blas.fblas is deprecated, use scipy.linalg.blas instead\n",
      "  DeprecationWarning)\n",
      "/System/Library/Frameworks/Python.framework/Versions/2.7/Extras/lib/python/scipy/lib/_util.py:35: DeprecationWarning: Module scipy.linalg.blas.fblas is deprecated, use scipy.linalg.blas instead\n",
      "  DeprecationWarning)\n",
      "/System/Library/Frameworks/Python.framework/Versions/2.7/Extras/lib/python/scipy/lib/_util.py:35: DeprecationWarning: Module scipy.linalg.blas.fblas is deprecated, use scipy.linalg.blas instead\n",
      "  DeprecationWarning)\n",
      "/System/Library/Frameworks/Python.framework/Versions/2.7/Extras/lib/python/scipy/lib/_util.py:35: DeprecationWarning: Module scipy.linalg.blas.fblas is deprecated, use scipy.linalg.blas instead\n",
      "  DeprecationWarning)\n",
      "/Library/Python/2.7/site-packages/ipykernel/pylab/config.py:66: DeprecationWarning: metadata {'config': True} was set from the constructor.  Metadata should be set using the .tag() method, e.g., Int().tag(key1='value1', key2='value2')\n",
      "  inline backend.\"\"\"\n",
      "/Library/Python/2.7/site-packages/ipykernel/pylab/config.py:71: DeprecationWarning: metadata {'config': True} was set from the constructor.  Metadata should be set using the .tag() method, e.g., Int().tag(key1='value1', key2='value2')\n",
      "  'retina', 'jpeg', 'svg', 'pdf'.\"\"\")\n",
      "/Library/Python/2.7/site-packages/ipykernel/pylab/config.py:85: DeprecationWarning: metadata {'config': True} was set from the constructor.  Metadata should be set using the .tag() method, e.g., Int().tag(key1='value1', key2='value2')\n",
      "  use `figure_formats` instead)\"\"\")\n",
      "/Library/Python/2.7/site-packages/ipykernel/pylab/config.py:95: DeprecationWarning: metadata {'config': True} was set from the constructor.  Metadata should be set using the .tag() method, e.g., Int().tag(key1='value1', key2='value2')\n",
      "  \"\"\"\n",
      "/Library/Python/2.7/site-packages/ipykernel/pylab/config.py:114: DeprecationWarning: metadata {'config': True} was set from the constructor.  Metadata should be set using the .tag() method, e.g., Int().tag(key1='value1', key2='value2')\n",
      "  \"\"\")\n",
      "/Library/Python/2.7/site-packages/ipykernel/pylab/config.py:44: DeprecationWarning: InlineBackend._config_changed is deprecated: use @observe and @unobserve instead.\n",
      "  def _config_changed(self, name, old, new):\n",
      "/Library/Python/2.7/site-packages/traitlets/traitlets.py:770: DeprecationWarning: A parent of InlineBackend._config_changed has adopted the new @observe(change) API\n",
      "  clsname, change_or_name), DeprecationWarning)\n"
     ]
    }
   ],
   "source": [
    "%load_ext autoreload\n",
    "%autoreload 2\n",
    "\n",
    "import cPickle, os, sys\n",
    "sys.path.insert(1, os.path.join(sys.path[0], '..'))\n",
    "\n",
    "from snorkel.snorkel import *\n",
    "np.random.seed(seed=1701)\n",
    "\n",
    "%matplotlib inline\n",
    "matplotlib.rcParams['figure.figsize'] = (18,6)"
   ]
  },
  {
   "cell_type": "markdown",
   "metadata": {},
   "source": [
    "## Loading candidate extractions\n",
    "First, we'll load in the pickled candidates that we created in the last notebook. We can construct an `Entities` object with the file."
   ]
  },
  {
   "cell_type": "code",
   "execution_count": 2,
   "metadata": {
    "collapsed": false
   },
   "outputs": [],
   "source": [
    "E = Entities('gene_tag_example/gene_tag_saved_entities_v6.pkl')"
   ]
  },
  {
   "cell_type": "markdown",
   "metadata": {},
   "source": [
    "## `DDLiteModel` objects and feature generation\n",
    "We'll then create a `DDLiteModel` object for our extracted gene candidates. This lets us iterate with our model and labeling functions. Since `Entities` object defines a feature generation method, features are automatically created when we initialize a `DDLiteModel` object. These are generic features from the NLP markup and dependency tree in the neighborhood of the mention. Alternatively, you can define a custom feature set as a NumPy array or a Scipy sparse matrix. Here, we pickle our feature matrix so we don't have to recompute it in the future."
   ]
  },
  {
   "cell_type": "code",
   "execution_count": 3,
   "metadata": {
    "collapsed": false
   },
   "outputs": [
    {
     "name": "stdout",
     "output_type": "stream",
     "text": [
      "Extracted 30533 features for each of 1349 mentions\n"
     ]
    }
   ],
   "source": [
    "feats = None\n",
    "\n",
    "pkl_f = 'gene_tag_example/gene_tag_feats_v1.pkl'\n",
    "try:\n",
    "    with open(pkl_f, 'rb') as f:\n",
    "        feats = cPickle.load(f)\n",
    "except:\n",
    "    %time E.extract_features()\n",
    "    with open(pkl_f, 'w+') as f:\n",
    "        cPickle.dump(E.feats, f)\n",
    "\n",
    "DDL = DDLiteModel(E, feats)\n",
    "print \"Extracted {} features for each of {} mentions\".format(DDL.num_feats(), DDL.num_candidates())"
   ]
  },
  {
   "cell_type": "markdown",
   "metadata": {},
   "source": [
    "We need a blind, gold standard ground truth set to evaluate our predictions. We can add these by using the uids for the candidates we want, and align these with a value of 1 for positive or a value of -1 for negative. We'll load in a set now using `DDL.update_gt()` and set it as the holdout. We'll assign half of the holdout to a validation set for parameter tuning, and the other half to a test set."
   ]
  },
  {
   "cell_type": "code",
   "execution_count": 4,
   "metadata": {
    "collapsed": false
   },
   "outputs": [],
   "source": [
    "with open('gene_tag_example/gt/uids.pkl', 'rb') as f:\n",
    "    uids = cPickle.load(f)\n",
    "with open('gene_tag_example/gt/gt.pkl', 'rb') as f:\n",
    "    gt = cPickle.load(f)\n",
    "    \n",
    "# Transform for legacy compatibility!\n",
    "uids = [re.sub(r'\\.html', '', re.sub(r'\\[\\'.*?\\'\\]', '[\\'MATCHER\\']', uid)) for uid in uids]    \n",
    "\n",
    "DDL.update_gt(gt[:50], uids=uids[:50])\n",
    "DDL.set_holdout(validation_frac=0.5)"
   ]
  },
  {
   "cell_type": "markdown",
   "metadata": {},
   "source": [
    "## Building a ground truth set with MindTagger\n",
    "In order to evaluate our labeling functions and learning results, we'll create a small set of ground truth labels for some candidates using [Mindtagger](http://deepdive.stanford.edu/labeling). This will highlight each candidate in the sentence in which it appears. We set the response to yes if it is a mention of gene, and no otherwise. If you aren't sure, you can abstain from labeling. In a real application, we would likely want to tag more than 20 candidates."
   ]
  },
  {
   "cell_type": "code",
   "execution_count": 5,
   "metadata": {
    "collapsed": false,
    "scrolled": false
   },
   "outputs": [
    {
     "name": "stdout",
     "output_type": "stream",
     "text": [
      "Making sure MindTagger is installed. Hang on!\n"
     ]
    },
    {
     "data": {
      "text/html": [
       "\n",
       "        <iframe\n",
       "            width=\"100%\"\n",
       "            height=\"1200\"\n",
       "            src=\"http://DNab4046de.stanford.edu:8018/#/mindtagger/236fb88867d33986\"\n",
       "            frameborder=\"0\"\n",
       "            allowfullscreen\n",
       "        ></iframe>\n",
       "        "
      ],
      "text/plain": [
       "<IPython.lib.display.IFrame at 0x116068810>"
      ]
     },
     "execution_count": 5,
     "metadata": {},
     "output_type": "execute_result"
    }
   ],
   "source": [
    "DDL.open_mindtagger(num_sample=100, width='100%', height=1200)"
   ]
  },
  {
   "cell_type": "markdown",
   "metadata": {},
   "source": [
    "Now, we'll retrieve the tags and add them to our `DDLiteModel`. We can also use a previously defined Mindtagger label set, similar to how we added our gold labels (this time, we'll use indexes instead of uids). These labels are used for evaluating our labeling functions against the *development set*."
   ]
  },
  {
   "cell_type": "code",
   "execution_count": 6,
   "metadata": {
    "collapsed": false
   },
   "outputs": [],
   "source": [
    "DDL.add_mindtagger_tags()"
   ]
  },
  {
   "cell_type": "code",
   "execution_count": 7,
   "metadata": {
    "collapsed": false
   },
   "outputs": [],
   "source": [
    "DDL.update_gt(gt[50:], uids=uids[50:])"
   ]
  },
  {
   "cell_type": "markdown",
   "metadata": {},
   "source": [
    "## Writing labeling functions\n",
    "We'll use data programming to learn a logistic regression model which will predict the probability of a candidate entity being a true gene mention. Since our training data is not manually labeled, we'll generate many (potentially noisy) labels as a surrogate for precise, manual labels. Feature extraction and model learning are very simple in ddlite. Writing labeling functions is where the real artistry comes in. One of ddlite's goals is to enable rapid prototyping, debugging, and experimenting with labeling functions. These can be used either to create a simple standalone app, or to plug into DeepDive. Labeling functions, or LFs, are functions that take an `Candidate` object. They must return 1 (for a positive label), 0 (for abstaining), or -1 (for a negative example). For now, we'll write a few simple LFs to get started:\n",
    "\n",
    "* The first, second, and third LFs return a positive label if the lemma \"gene\", \"mutant\", or \"express\" appear in a window around the mention, respectively\n",
    "* The third LF returns a positive label if the dependency parent of any of the words in the mention is \"mutation\", and abstains otherwise\n",
    "* The fourth, fifth, and sixth LF return a negative label if the mention candidate contains \"DNA\", \"RNA\", or \"SNP\" respectively (these are common uppercase nouns which are not genes) "
   ]
  },
  {
   "cell_type": "code",
   "execution_count": 8,
   "metadata": {
    "collapsed": false
   },
   "outputs": [],
   "source": [
    "def LF_gene(m):\n",
    "    return 1 if ('gene' in m.post_window('lemmas')) or ('gene' in m.pre_window('lemmas')) else 0\n",
    "def LF_gene_dp(m):\n",
    "    return 1 if 'gene' in [m.lemmas[m.dep_parents[i] - 1] for i in m.idxs] else 0\n",
    "def LF_genotype_dp(m):\n",
    "    return 1 if 'genotype' in [m.lemmas[m.dep_parents[i] - 1] for i in m.idxs] else 0\n",
    "def LF_mutant(m):\n",
    "    return 1 if ('mutant' in m.post_window('lemmas')) or ('mutant' in m.pre_window('lemmas')) else 0\n",
    "def LF_variant(m):\n",
    "    return 1 if ('variant' in m.post_window('lemmas')) or ('variant' in m.pre_window('lemmas')) else 0\n",
    "def LF_express(m):\n",
    "    return 1 if ('express' in m.post_window('lemmas')) or ('express' in m.pre_window('lemmas')) else 0\n",
    "def LF_mutation(m):\n",
    "    return 1 if 'mutation' in [m.lemmas[m.dep_parents[i] - 1] for i in m.idxs] else 0\n",
    "def LF_JJ(m):\n",
    "    return 1 if 'JJ' in m.post_window('poses') else 0\n",
    "def LF_IN(m):\n",
    "    return 1 if 'IN' in m.pre_window('poses', 1) else 0\n",
    "\n",
    "def LF_dna(m):\n",
    "    return -1 if 'DNA' in m.mention('words') else 0\n",
    "def LF_rna(m):\n",
    "    return -1 if 'RNA' in m.mention('words') else 0\n",
    "def LF_snp(m):\n",
    "    return -1 if 'SNP' in m.mention('words') else 0\n",
    "def LF_protein(m):\n",
    "    return -1 if 'protein' in m.pre_window('lemmas') else 0\n",
    "def LF_LRB(m):\n",
    "    return -1 if '-LRB-' in m.post_window('poses', 1) else 0\n",
    "def LF_RRB(m):\n",
    "    return -1 if '-RRB-' in m.post_window('poses', 1) else 0\n",
    "def LF_dev_dp(m):\n",
    "    return -1 if 'development' in [m.lemmas[m.dep_parents[i] - 1] for i in m.idxs] else 0\n",
    "def LF_protein_dp(m):\n",
    "    return -1 if 'protein' in [m.lemmas[m.dep_parents[i] - 1] for i in m.idxs] else 0\n",
    "def LF_network_dp(m):\n",
    "    return -1 if 'network' in [m.lemmas[m.dep_parents[i] - 1] for i in m.idxs] else 0\n",
    "def LF_JJ_dp(m):\n",
    "    return -1 if 'JJ' in [m.poses[m.dep_parents[i] - 1] for i in m.idxs] else 0\n",
    "def LF_NNP(m):\n",
    "    return -1 if 'NNP' in m.mention('poses') else 0"
   ]
  },
  {
   "cell_type": "markdown",
   "metadata": {},
   "source": [
    "Our intuition is that the few simple LFs given above won't yield a good model. We'll see this more concretely when we evaluate the labeling functions. For now, let's leave them as is. After writing the LFs, we simply collect them and apply them to mentions. If we define more LFs later, we can apply them incrementally or overwrite all the LFs so far."
   ]
  },
  {
   "cell_type": "code",
   "execution_count": 9,
   "metadata": {
    "collapsed": false
   },
   "outputs": [],
   "source": [
    "LFs = [LF_JJ, LF_JJ_dp, LF_NNP, LF_RRB, LF_dev_dp, LF_dna, LF_express, LF_gene, LF_gene_dp,\n",
    "       LF_genotype_dp, LF_mutant, LF_mutation, LF_network_dp, LF_protein, LF_protein_dp,\n",
    "       LF_rna, LF_snp, LF_variant, LF_IN, LF_LRB]\n",
    "DDL.apply_lfs(LFs, clear=False)"
   ]
  },
  {
   "cell_type": "markdown",
   "metadata": {},
   "source": [
    "We'll use ddlite's LF assessment utilities to debug and analyze our LFs before running inference. First, we'll generate summary plots which show the following:\n",
    "\n",
    "* Do the LFs cover the data well or do we have many candidates for which all of the LFs abstained?\n",
    "* Is there overlap between the LFs? Do many return positive or negative labels for the same candidate?\n",
    "* Do the LFs conflict with each other? Do candidates tend to have many of one type of label, or a mix?"
   ]
  },
  {
   "cell_type": "code",
   "execution_count": 10,
   "metadata": {
    "collapsed": false
   },
   "outputs": [
    {
     "name": "stdout",
     "output_type": "stream",
     "text": [
      "LF stats on training set\n",
      "Coverage:\t69.515%\n",
      "Overlap:\t29.330%\n",
      "Conflict:\t15.396%\n"
     ]
    }
   ],
   "source": [
    "DDL.print_lf_stats()"
   ]
  },
  {
   "cell_type": "code",
   "execution_count": 11,
   "metadata": {
    "collapsed": false,
    "scrolled": true
   },
   "outputs": [
    {
     "data": {
      "image/png": "[encoded data removed]",
      "text/plain": [
       "<matplotlib.figure.Figure at 0x10e7b8cd0>"
      ]
     },
     "metadata": {},
     "output_type": "display_data"
    }
   ],
   "source": [
    "DDL.plot_lf_stats()"
   ]
  },
  {
   "cell_type": "markdown",
   "metadata": {},
   "source": [
    "As we may expect, the few LFs do not cover the data very well. We can switch to an LF view of these measures and show tables for the LFs with the most conflict, lowest coverage, and lowest empirical accuracy as compared to the development set labels."
   ]
  },
  {
   "cell_type": "code",
   "execution_count": 12,
   "metadata": {
    "collapsed": false
   },
   "outputs": [
    {
     "data": {
      "text/html": [
       "<table><tr><td><b>Labeling function</b></td><td><b>Percent candidates where LF has conflict</b></td></tr><tr><td>LF_JJ</td><td>0.15%</td></tr><tr><td>LF_dev_dp</td><td>0.08%</td></tr><tr><td>LF_IN</td><td>0.08%</td></tr></table>"
      ],
      "text/plain": [
       "DictTable([('LF_JJ', ['0.15%']),\n",
       "           ('LF_dev_dp', ['0.08%']),\n",
       "           ('LF_IN', ['0.08%']),\n",
       "           ('LF_LRB', ['0.08%']),\n",
       "           ('LF_JJ_dp', ['0.00%']),\n",
       "           ('LF_mutant', ['0.00%']),\n",
       "           ('LF_snp', ['0.00%']),\n",
       "           ('LF_gene', ['0.00%']),\n",
       "           ('LF_variant', ['0.00%']),\n",
       "           ('LF_network_dp', ['0.00%']),\n",
       "           ('LF_express', ['0.00%']),\n",
       "           ('LF_dna', ['0.00%']),\n",
       "           ('LF_RRB', ['0.00%']),\n",
       "           ('LF_protein_dp', ['0.00%']),\n",
       "           ('LF_mutation', ['0.00%']),\n",
       "           ('LF_NNP', ['0.00%']),\n",
       "           ('LF_gene_dp', ['0.00%']),\n",
       "           ('LF_protein', ['0.00%']),\n",
       "           ('LF_rna', ['0.00%']),\n",
       "           ('LF_genotype_dp', ['0.00%'])])"
      ]
     },
     "execution_count": 12,
     "metadata": {},
     "output_type": "execute_result"
    }
   ],
   "source": [
    "DDL.top_conflict_lfs(n=3)"
   ]
  },
  {
   "cell_type": "code",
   "execution_count": 13,
   "metadata": {
    "collapsed": false
   },
   "outputs": [
    {
     "data": {
      "text/html": [
       "<table><tr><td><b>Labeling function</b></td><td><b>Candidate coverage</b></td></tr><tr><td>LF_network_dp</td><td>0.08%</td></tr><tr><td>LF_dev_dp</td><td>0.15%</td></tr><tr><td>LF_express</td><td>0.77%</td></tr></table>"
      ],
      "text/plain": [
       "DictTable([('LF_network_dp', ['0.08%']),\n",
       "           ('LF_dev_dp', ['0.15%']),\n",
       "           ('LF_express', ['0.77%']),\n",
       "           ('LF_protein', ['0.85%']),\n",
       "           ('LF_genotype_dp', ['0.85%']),\n",
       "           ('LF_mutant', ['1.15%']),\n",
       "           ('LF_protein_dp', ['1.15%']),\n",
       "           ('LF_rna', ['1.31%']),\n",
       "           ('LF_NNP', ['11.09%']),\n",
       "           ('LF_RRB', ['14.32%']),\n",
       "           ('LF_JJ', ['16.32%']),\n",
       "           ('LF_snp', ['2.00%']),\n",
       "           ('LF_variant', ['2.62%']),\n",
       "           ('LF_JJ_dp', ['2.85%']),\n",
       "           ('LF_dna', ['2.93%']),\n",
       "           ('LF_IN', ['25.48%']),\n",
       "           ('LF_LRB', ['4.16%']),\n",
       "           ('LF_mutation', ['4.77%']),\n",
       "           ('LF_gene_dp', ['5.16%']),\n",
       "           ('LF_gene', ['7.78%'])])"
      ]
     },
     "execution_count": 13,
     "metadata": {},
     "output_type": "execute_result"
    }
   ],
   "source": [
    "DDL.lowest_coverage_lfs(n=3)"
   ]
  },
  {
   "cell_type": "markdown",
   "metadata": {},
   "source": [
    "Since our development set is small, we can't evaluate LF performance particularly well. If we observe LFs with very low accuracy, poor generalization, and a sufficiently large sample size, this could be an indication that the LF is buggy."
   ]
  },
  {
   "cell_type": "markdown",
   "metadata": {},
   "source": [
    "## Learning\n",
    "To learn weights for the features and LFs, we use a simple, regularized logistic regression model. Again, the results won't be meaningful without more LFs. We'll tell ddlite to log the results and print out a summary table"
   ]
  },
  {
   "cell_type": "code",
   "execution_count": 14,
   "metadata": {
    "collapsed": false,
    "scrolled": true
   },
   "outputs": [
    {
     "name": "stdout",
     "output_type": "stream",
     "text": [
      "Begin training for rate=0.01, mu=1e-07\n",
      "\tLearning epoch = 0\tGradient mag. = 0.090644\n",
      "\tLearning epoch = 250\tGradient mag. = 0.094643\n",
      "Final gradient magnitude for rate=0.01, mu=1e-07: 0.098\n",
      "Begin training for rate=0.01, mu=1e-09\n",
      "\tLearning epoch = 0\tGradient mag. = 0.023619\n",
      "\tLearning epoch = 250\tGradient mag. = 0.024359\n",
      "\tLearning epoch = 500\tGradient mag. = 0.023880\n",
      "\tLearning epoch = 750\tGradient mag. = 0.023425\n",
      "\tLearning epoch = 1000\tGradient mag. = 0.022992\n",
      "\tLearning epoch = 1250\tGradient mag. = 0.022580\n",
      "\tLearning epoch = 1500\tGradient mag. = 0.022187\n",
      "\tLearning epoch = 1750\tGradient mag. = 0.021813\n",
      "\tLearning epoch = 2000\tGradient mag. = 0.021456\n",
      "\tLearning epoch = 2250\tGradient mag. = 0.021115\n",
      "\tLearning epoch = 2500\tGradient mag. = 0.020789\n",
      "\tLearning epoch = 2750\tGradient mag. = 0.020478\n",
      "Final gradient magnitude for rate=0.01, mu=1e-09: 0.020\n",
      "Begin training for rate=0.01, mu=1e-05\n",
      "\tLearning epoch = 0\tGradient mag. = 0.023619\n",
      "\tLearning epoch = 250\tGradient mag. = 0.024359\n",
      "\tLearning epoch = 500\tGradient mag. = 0.023881\n",
      "\tLearning epoch = 750\tGradient mag. = 0.023426\n",
      "\tLearning epoch = 1000\tGradient mag. = 0.022994\n",
      "\tLearning epoch = 1250\tGradient mag. = 0.022582\n",
      "\tLearning epoch = 1500\tGradient mag. = 0.022190\n",
      "\tLearning epoch = 1750\tGradient mag. = 0.021816\n",
      "\tLearning epoch = 2000\tGradient mag. = 0.021459\n",
      "\tLearning epoch = 2250\tGradient mag. = 0.021119\n",
      "\tLearning epoch = 2500\tGradient mag. = 0.020793\n",
      "\tLearning epoch = 2750\tGradient mag. = 0.020482\n",
      "Final gradient magnitude for rate=0.01, mu=1e-05: 0.020\n",
      "Begin training for rate=0.01, mu=0.001\n",
      "\tLearning epoch = 0\tGradient mag. = 0.023619\n",
      "\tLearning epoch = 250\tGradient mag. = 0.024405\n",
      "\tLearning epoch = 500\tGradient mag. = 0.023971\n",
      "\tLearning epoch = 750\tGradient mag. = 0.023559\n",
      "\tLearning epoch = 1000\tGradient mag. = 0.023168\n",
      "\tLearning epoch = 1250\tGradient mag. = 0.022796\n",
      "\tLearning epoch = 1500\tGradient mag. = 0.022442\n",
      "\tLearning epoch = 1750\tGradient mag. = 0.022106\n",
      "\tLearning epoch = 2000\tGradient mag. = 0.021786\n",
      "\tLearning epoch = 2250\tGradient mag. = 0.021480\n",
      "\tLearning epoch = 2500\tGradient mag. = 0.021189\n",
      "\tLearning epoch = 2750\tGradient mag. = 0.020911\n",
      "Final gradient magnitude for rate=0.01, mu=0.001: 0.021\n",
      "Begin training for rate=0.01, mu=0.1\n",
      "\tLearning epoch = 0\tGradient mag. = 0.023619\n",
      "SGD converged for mu=0.1 after 10 steps\n"
     ]
    },
    {
     "data": {
      "image/png": "[encoded data removed]",
      "text/plain": [
       "<matplotlib.figure.Figure at 0x10e9570d0>"
      ]
     },
     "metadata": {},
     "output_type": "display_data"
    },
    {
     "name": "stdout",
     "output_type": "stream",
     "text": [
      "CPU times: user 23.1 s, sys: 262 ms, total: 23.3 s\n",
      "Wall time: 23.3 s\n"
     ]
    },
    {
     "data": {
      "text/html": [
       "<table><tr><td><b>ID</b></td><td><b># LFs</b></td><td><b>Test set size</b></td><td><b>Model</b></td><td><b>Precision</b></td><td><b>Recall</b></td><td><b>F1</b></td></tr><tr><td>0</td><td>20</td><td>25</td><td>Logistic regression</td><td>0.778</td><td>0.933</td><td>0.848</td></tr></table><table><tr><td><b>LF</b></td></tr><tr><td>LF_JJ</td></tr><tr><td>LF_JJ_dp</td></tr><tr><td>LF_NNP</td></tr><tr><td>LF_RRB</td></tr><tr><td>LF_dev_dp</td></tr><tr><td>LF_dna</td></tr><tr><td>LF_express</td></tr><tr><td>LF_gene</td></tr><tr><td>LF_gene_dp</td></tr><tr><td>LF_genotype_dp</td></tr><tr><td>LF_mutant</td></tr><tr><td>LF_mutation</td></tr><tr><td>LF_network_dp</td></tr><tr><td>LF_protein</td></tr><tr><td>LF_protein_dp</td></tr><tr><td>LF_rna</td></tr><tr><td>LF_snp</td></tr><tr><td>LF_variant</td></tr><tr><td>LF_IN</td></tr><tr><td>LF_LRB</td></tr></table>"
      ],
      "text/plain": [
       "<snorkel.snorkel.ModelLog instance at 0x114e9d998>"
      ]
     },
     "execution_count": 14,
     "metadata": {},
     "output_type": "execute_result"
    }
   ],
   "source": [
    "matplotlib.rcParams['figure.figsize'] = (12,4)\n",
    "mu_seq = np.ravel([1e-9, 1e-5, 1e-3, 1e-1])\n",
    "lf_opts = {'sample': False, 'verbose': True}\n",
    "model_opts = {'sample': False, 'n_iter': 3000, 'alpha': 0.5, 'mu': mu_seq, 'bias': False, 'verbose': True}\n",
    "%time DDL.train_model(method='lr', lf_opts=lf_opts, model_opts=model_opts)"
   ]
  },
  {
   "cell_type": "markdown",
   "metadata": {},
   "source": [
    "We can use [DeepDive-style calibration plots](http://deepdive.stanford.edu/calibration) to evaluate the quality of our predictions."
   ]
  },
  {
   "cell_type": "code",
   "execution_count": 15,
   "metadata": {
    "collapsed": false
   },
   "outputs": [
    {
     "name": "stderr",
     "output_type": "stream",
     "text": [
      "/System/Library/Frameworks/Python.framework/Versions/2.7/Extras/lib/python/numpy/core/_methods.py:55: RuntimeWarning: Mean of empty slice.\n",
      "  warnings.warn(\"Mean of empty slice.\", RuntimeWarning)\n"
     ]
    },
    {
     "data": {
      "image/png": "[encoded data removed]",
      "text/plain": [
       "<matplotlib.figure.Figure at 0x10e907790>"
      ]
     },
     "metadata": {},
     "output_type": "display_data"
    }
   ],
   "source": [
    "DDL.plot_calibration()"
   ]
  },
  {
   "cell_type": "markdown",
   "metadata": {},
   "source": [
    "Since we used pipeline learning, we can also see the gain in accuracy we got from using features and not just LFs as a collection of rules."
   ]
  },
  {
   "cell_type": "code",
   "execution_count": 16,
   "metadata": {
    "collapsed": false
   },
   "outputs": [
    {
     "name": "stdout",
     "output_type": "stream",
     "text": [
      "LF accuracy: 0.700\n",
      "Full model accuracy: 0.720\n"
     ]
    }
   ],
   "source": [
    "idxs, gt = DDL.get_labeled_ground_truth(subset=DDL.holdout())\n",
    "acc_feats = np.mean(DDL.get_predicted(subset=DDL.holdout()) == gt)\n",
    "acc_lfs = np.mean(DDL.get_lf_predicted(subset=DDL.holdout()) == gt)\n",
    "print \"LF accuracy: {:.3f}\\nFull model accuracy: {:.3f}\".format(acc_lfs, acc_feats)"
   ]
  },
  {
   "cell_type": "markdown",
   "metadata": {},
   "source": [
    "## Iterating with labeling functions\n",
    "After analyzing our LFs and obtaining model results, we can revise our LF set. We can see all of the results thus far, and reopen MindTagger to see some mentions that aren't currently covered by LFs."
   ]
  },
  {
   "cell_type": "code",
   "execution_count": 17,
   "metadata": {
    "collapsed": false
   },
   "outputs": [
    {
     "data": {
      "text/html": [
       "<table><tr><td><b>ID</b></td><td><b># LFs</b></td><td><b>Test set size</b></td><td><b>Model</b></td><td><b>Precision</b></td><td><b>Recall</b></td><td><b>F1</b></td></tr><tr><td>0</td><td>20</td><td>25</td><td>Logistic regression</td><td>0.778</td><td>0.933</td><td>0.848</td></tr></table>"
      ],
      "text/plain": [
       "<snorkel.snorkel.ModelLogger instance at 0x1160e7560>"
      ]
     },
     "execution_count": 17,
     "metadata": {},
     "output_type": "execute_result"
    }
   ],
   "source": [
    "DDL.show_log()"
   ]
  },
  {
   "cell_type": "code",
   "execution_count": 18,
   "metadata": {
    "collapsed": false,
    "scrolled": true
   },
   "outputs": [
    {
     "name": "stdout",
     "output_type": "stream",
     "text": [
      "Making sure MindTagger is installed. Hang on!\n"
     ]
    },
    {
     "data": {
      "text/html": [
       "\n",
       "        <iframe\n",
       "            width=\"100%\"\n",
       "            height=\"1200\"\n",
       "            src=\"http://DNab4046de.stanford.edu:8018/#/mindtagger/92a8b9a7ebeada8d\"\n",
       "            frameborder=\"0\"\n",
       "            allowfullscreen\n",
       "        ></iframe>\n",
       "        "
      ],
      "text/plain": [
       "<IPython.lib.display.IFrame at 0x116545710>"
      ]
     },
     "execution_count": 18,
     "metadata": {},
     "output_type": "execute_result"
    }
   ],
   "source": [
    "DDL.open_mindtagger(width='100%', height=1200, abstain=True)"
   ]
  },
  {
   "cell_type": "markdown",
   "metadata": {},
   "source": [
    "In order to use LSTM to learn weights, we just just call the following functions."
   ]
  },
  {
   "cell_type": "code",
   "execution_count": 19,
   "metadata": {
    "collapsed": false,
    "scrolled": false
   },
   "outputs": [
    {
     "name": "stdout",
     "output_type": "stream",
     "text": [
      "Begin training for rate=0.01, mu=1e-07\n",
      "\tLearning epoch = 0\tGradient mag. = 0.090644\n",
      "\tLearning epoch = 250\tGradient mag. = 0.094643\n",
      "Final gradient magnitude for rate=0.01, mu=1e-07: 0.098\n",
      "Epoch #0, Training error: 0.532717\n",
      "Epoch #1, Training error: 0.532717\n",
      "Epoch #2, Training error: 0.532717\n",
      "Epoch #3, Training error: 0.532717\n",
      "Epoch #4, Training error: 0.532717\n",
      "Epoch #5, Training error: 0.532717\n",
      "Epoch #6, Training error: 0.532717\n",
      "Epoch #7, Training error: 0.532717\n",
      "Epoch #8, Training error: 0.532717\n",
      "Epoch #9, Training error: 0.532717\n",
      "Epoch #10, Training error: 0.532717\n",
      "Epoch #11, Training error: 0.532717\n",
      "Epoch #12, Training error: 0.532717\n",
      "Epoch #13, Training error: 0.532717\n",
      "Epoch #14, Training error: 0.532717\n",
      "Epoch #15, Training error: 0.532717\n",
      "Epoch #16, Training error: 0.532717\n",
      "Epoch #17, Training error: 0.532717\n",
      "Epoch #18, Training error: 0.532717\n",
      "Epoch #19, Training error: 0.532717\n",
      "Epoch #20, Training error: 0.532717\n",
      "Epoch #21, Training error: 0.532717\n",
      "Epoch #22, Training error: 0.532717\n",
      "Epoch #23, Training error: 0.532717\n",
      "Epoch #24, Training error: 0.532717\n",
      "Epoch #25, Training error: 0.532717\n",
      "Epoch #26, Training error: 0.532717\n",
      "Epoch #27, Training error: 0.532717\n",
      "Epoch #28, Training error: 0.532717\n",
      "Epoch #29, Training error: 0.532717\n",
      "Epoch #30, Training error: 0.532717\n",
      "Epoch #31, Training error: 0.532717\n",
      "Epoch #32, Training error: 0.532717\n",
      "Epoch #33, Training error: 0.532717\n",
      "Epoch #34, Training error: 0.532717\n",
      "Epoch #35, Training error: 0.532717\n",
      "Epoch #36, Training error: 0.532717\n",
      "Epoch #37, Training error: 0.532717\n",
      "Epoch #38, Training error: 0.532717\n",
      "Epoch #39, Training error: 0.532717\n",
      "Epoch #40, Training error: 0.532717\n",
      "Epoch #41, Training error: 0.532717\n",
      "Epoch #42, Training error: 0.532717\n",
      "Epoch #43, Training error: 0.532717\n",
      "Epoch #44, Training error: 0.532717\n",
      "Epoch #45, Training error: 0.532717\n",
      "Epoch #46, Training error: 0.532717\n",
      "Epoch #47, Training error: 0.532717\n",
      "Epoch #48, Training error: 0.532717\n",
      "Epoch #49, Training error: 0.532717\n",
      "Epoch #50, Training error: 0.532717\n",
      "Epoch #51, Training error: 0.532717\n",
      "Epoch #52, Training error: 0.532717\n",
      "Epoch #53, Training error: 0.532717\n",
      "Epoch #54, Training error: 0.532717\n",
      "Epoch #55, Training error: 0.532717\n",
      "Epoch #56, Training error: 0.532717\n",
      "Epoch #57, Training error: 0.532717\n",
      "Epoch #58, Training error: 0.532717\n",
      "Epoch #59, Training error: 0.532717\n",
      "Epoch #60, Training error: 0.532717\n",
      "Epoch #61, Training error: 0.532717\n",
      "Epoch #62, Training error: 0.532717\n",
      "Epoch #63, Training error: 0.532717\n",
      "Epoch #64, Training error: 0.532717\n",
      "Epoch #65, Training error: 0.532717\n",
      "Epoch #66, Training error: 0.532717\n",
      "Epoch #67, Training error: 0.532717\n",
      "Epoch #68, Training error: 0.532717\n",
      "Epoch #69, Training error: 0.532717\n",
      "Epoch #70, Training error: 0.532717\n",
      "Epoch #71, Training error: 0.532717\n",
      "Epoch #72, Training error: 0.532717\n",
      "Epoch #73, Training error: 0.532717\n",
      "Epoch #74, Training error: 0.532717\n",
      "Epoch #75, Training error: 0.532717\n",
      "Epoch #76, Training error: 0.532717\n",
      "Epoch #77, Training error: 0.532717\n",
      "Epoch #78, Training error: 0.532717\n",
      "Epoch #79, Training error: 0.532717\n",
      "Epoch #80, Training error: 0.532717\n",
      "Epoch #81, Training error: 0.532717\n",
      "Epoch #82, Training error: 0.532717\n",
      "Epoch #83, Training error: 0.532717\n",
      "Epoch #84, Training error: 0.532717\n",
      "Epoch #85, Training error: 0.532717\n",
      "Epoch #86, Training error: 0.532717\n",
      "Epoch #87, Training error: 0.532717\n",
      "Epoch #88, Training error: 0.532717\n",
      "Epoch #89, Training error: 0.532717\n",
      "Epoch #90, Training error: 0.532717\n",
      "Epoch #91, Training error: 0.532717\n",
      "Epoch #92, Training error: 0.532717\n",
      "Epoch #93, Training error: 0.532717\n",
      "Epoch #94, Training error: 0.532717\n",
      "Epoch #95, Training error: 0.532717\n",
      "Epoch #96, Training error: 0.532717\n",
      "Epoch #97, Training error: 0.532717\n",
      "Epoch #98, Training error: 0.532717\n",
      "Epoch #99, Training error: 0.532717\n",
      "Epoch #100, Training error: 0.532717\n",
      "Epoch #101, Training error: 0.532717\n",
      "Epoch #102, Training error: 0.532717\n",
      "Epoch #103, Training error: 0.532717\n",
      "Epoch #104, Training error: 0.532717\n",
      "Epoch #105, Training error: 0.532717\n",
      "Epoch #106, Training error: 0.532717\n",
      "Epoch #107, Training error: 0.532717\n",
      "Epoch #108, Training error: 0.532717\n",
      "Epoch #109, Training error: 0.532717\n",
      "Epoch #110, Training error: 0.532717\n",
      "Epoch #111, Training error: 0.532717\n",
      "Epoch #112, Training error: 0.532717\n",
      "Epoch #113, Training error: 0.532717\n",
      "Epoch #114, Training error: 0.532717\n",
      "Epoch #115, Training error: 0.532717\n",
      "Epoch #116, Training error: 0.532717\n",
      "Epoch #117, Training error: 0.532717\n",
      "Epoch #118, Training error: 0.532717\n",
      "Epoch #119, Training error: 0.532717\n",
      "Epoch #120, Training error: 0.532717\n",
      "Epoch #121, Training error: 0.532717\n",
      "Epoch #122, Training error: 0.532717\n",
      "Epoch #123, Training error: 0.532717\n",
      "Epoch #124, Training error: 0.532717\n",
      "Epoch #125, Training error: 0.532717\n",
      "Epoch #126, Training error: 0.532717\n",
      "Epoch #127, Training error: 0.532717\n",
      "Epoch #128, Training error: 0.532717\n",
      "Epoch #129, Training error: 0.532717\n",
      "Epoch #130, Training error: 0.532717\n",
      "Epoch #131, Training error: 0.532717\n",
      "Epoch #132, Training error: 0.532717\n",
      "Epoch #133, Training error: 0.532717\n",
      "Epoch #134, Training error: 0.532717\n",
      "Epoch #135, Training error: 0.532717\n",
      "Epoch #136, Training error: 0.532717\n",
      "Epoch #137, Training error: 0.532717\n",
      "Epoch #138, Training error: 0.532717\n",
      "Epoch #139, Training error: 0.532717\n",
      "Epoch #140, Training error: 0.532717\n",
      "Epoch #141, Training error: 0.532717\n",
      "Epoch #142, Training error: 0.532717\n",
      "Epoch #143, Training error: 0.532717\n",
      "Epoch #144, Training error: 0.532717\n",
      "Epoch #145, Training error: 0.532717\n",
      "Epoch #146, Training error: 0.532717\n",
      "Epoch #147, Training error: 0.532717\n",
      "Epoch #148, Training error: 0.532717\n",
      "Epoch #149, Training error: 0.532717\n",
      "Epoch #150, Training error: 0.532717\n",
      "Epoch #151, Training error: 0.532717\n",
      "Epoch #152, Training error: 0.532717\n",
      "Epoch #153, Training error: 0.532717\n",
      "Epoch #154, Training error: 0.532717\n",
      "Epoch #155, Training error: 0.532717\n",
      "Epoch #156, Training error: 0.532717\n",
      "Epoch #157, Training error: 0.532717\n",
      "Epoch #158, Training error: 0.532717\n",
      "Epoch #159, Training error: 0.532717\n",
      "Epoch #160, Training error: 0.532717\n",
      "Epoch #161, Training error: 0.532717\n",
      "Epoch #162, Training error: 0.532717\n",
      "Epoch #163, Training error: 0.532717\n",
      "Epoch #164, Training error: 0.532717\n",
      "Epoch #165, Training error: 0.532717\n",
      "Epoch #166, Training error: 0.532717\n",
      "Epoch #167, Training error: 0.532717\n",
      "Epoch #168, Training error: 0.532717\n",
      "Epoch #169, Training error: 0.532717\n",
      "Epoch #170, Training error: 0.532717\n",
      "Epoch #171, Training error: 0.532717\n",
      "Epoch #172, Training error: 0.532717\n",
      "Epoch #173, Training error: 0.532717\n",
      "Epoch #174, Training error: 0.532717\n",
      "Epoch #175, Training error: 0.532717\n",
      "Epoch #176, Training error: 0.532717\n",
      "Epoch #177, Training error: 0.532717\n",
      "Epoch #178, Training error: 0.532717\n",
      "Epoch #179, Training error: 0.532717\n",
      "Epoch #180, Training error: 0.532717\n",
      "Epoch #181, Training error: 0.532717\n",
      "Epoch #182, Training error: 0.532717\n",
      "Epoch #183, Training error: 0.532717\n",
      "Epoch #184, Training error: 0.532717\n",
      "Epoch #185, Training error: 0.532717\n",
      "Epoch #186, Training error: 0.532717\n",
      "Epoch #187, Training error: 0.532717\n",
      "Epoch #188, Training error: 0.532717\n",
      "Epoch #189, Training error: 0.532717\n",
      "Epoch #190, Training error: 0.532717\n",
      "Epoch #191, Training error: 0.532717\n",
      "Epoch #192, Training error: 0.532717\n",
      "Epoch #193, Training error: 0.532717\n",
      "Epoch #194, Training error: 0.532717\n",
      "Epoch #195, Training error: 0.532717\n",
      "Epoch #196, Training error: 0.532717\n",
      "Epoch #197, Training error: 0.532717\n",
      "Epoch #198, Training error: 0.532717\n",
      "Epoch #199, Training error: 0.532717\n",
      "Epoch #200, Training error: 0.532717\n",
      "Epoch #201, Training error: 0.532717\n",
      "Epoch #202, Training error: 0.532717\n",
      "Epoch #203, Training error: 0.532717\n",
      "Epoch #204, Training error: 0.532717\n",
      "Epoch #205, Training error: 0.532717\n",
      "Epoch #206, Training error: 0.532717\n",
      "Epoch #207, Training error: 0.532717\n",
      "Epoch #208, Training error: 0.532717\n",
      "Epoch #209, Training error: 0.532717\n",
      "Epoch #210, Training error: 0.532717\n",
      "Epoch #211, Training error: 0.532717\n",
      "Epoch #212, Training error: 0.532717\n",
      "Epoch #213, Training error: 0.532717\n",
      "Epoch #214, Training error: 0.532717\n",
      "Epoch #215, Training error: 0.532717\n",
      "Epoch #216, Training error: 0.532717\n",
      "Epoch #217, Training error: 0.532717\n",
      "Epoch #218, Training error: 0.532717\n",
      "Epoch #219, Training error: 0.532717\n",
      "Epoch #220, Training error: 0.532717\n",
      "Epoch #221, Training error: 0.532717\n",
      "Epoch #222, Training error: 0.532717\n",
      "Epoch #223, Training error: 0.532717\n",
      "Epoch #224, Training error: 0.532717\n",
      "Epoch #225, Training error: 0.532717\n",
      "Epoch #226, Training error: 0.532717\n",
      "Epoch #227, Training error: 0.532717\n",
      "Epoch #228, Training error: 0.532717\n",
      "Epoch #229, Training error: 0.532717\n",
      "Epoch #230, Training error: 0.532717\n",
      "Epoch #231, Training error: 0.532717\n",
      "Epoch #232, Training error: 0.532717\n",
      "Epoch #233, Training error: 0.532717\n",
      "Epoch #234, Training error: 0.532717\n",
      "Epoch #235, Training error: 0.532717\n",
      "Epoch #236, Training error: 0.532717\n",
      "Epoch #237, Training error: 0.532717\n",
      "Epoch #238, Training error: 0.532717\n",
      "Epoch #239, Training error: 0.532717\n",
      "Epoch #240, Training error: 0.532717\n",
      "Epoch #241, Training error: 0.532717\n",
      "Epoch #242, Training error: 0.532717\n",
      "Epoch #243, Training error: 0.532717\n",
      "Epoch #244, Training error: 0.501925\n",
      "Epoch #245, Training error: 0.501925\n",
      "Epoch #246, Training error: 0.501925\n",
      "Epoch #247, Training error: 0.501925\n",
      "Epoch #248, Training error: 0.501925\n",
      "Epoch #249, Training error: 0.501925\n",
      "Epoch #250, Training error: 0.501925\n",
      "Epoch #251, Training error: 0.501925\n",
      "Epoch #252, Training error: 0.501925\n",
      "Epoch #253, Training error: 0.501925\n",
      "Epoch #254, Training error: 0.501925\n",
      "Epoch #255, Training error: 0.501925\n",
      "Epoch #256, Training error: 0.498075\n",
      "Epoch #257, Training error: 0.501925\n",
      "Epoch #258, Training error: 0.498075\n",
      "Epoch #259, Training error: 0.498075\n",
      "Epoch #260, Training error: 0.487298\n",
      "Epoch #261, Training error: 0.498075\n",
      "Epoch #262, Training error: 0.493457\n",
      "Epoch #263, Training error: 0.493457\n",
      "Epoch #264, Training error: 0.483449\n",
      "Epoch #265, Training error: 0.484988\n",
      "Epoch #266, Training error: 0.498075\n",
      "Epoch #267, Training error: 0.477290\n",
      "Epoch #268, Training error: 0.477290\n",
      "Epoch #269, Training error: 0.484988\n",
      "Epoch #270, Training error: 0.461124\n",
      "Epoch #271, Training error: 0.481909\n",
      "Epoch #272, Training error: 0.481909\n",
      "Epoch #273, Training error: 0.481139\n",
      "Epoch #274, Training error: 0.438799\n",
      "Epoch #275, Training error: 0.400308\n",
      "Epoch #276, Training error: 0.464973\n",
      "Epoch #277, Training error: 0.356428\n",
      "Epoch #278, Training error: 0.398768\n",
      "Epoch #279, Training error: 0.345651\n",
      "Epoch #280, Training error: 0.458814\n",
      "Epoch #281, Training error: 0.447267\n",
      "Epoch #282, Training error: 0.423403\n",
      "Epoch #283, Training error: 0.419554\n",
      "Epoch #284, Training error: 0.364896\n",
      "Epoch #285, Training error: 0.362587\n",
      "Epoch #286, Training error: 0.305620\n",
      "Epoch #287, Training error: 0.350269\n",
      "Epoch #288, Training error: 0.425712\n",
      "Epoch #289, Training error: 0.341801\n",
      "Epoch #290, Training error: 0.444958\n",
      "Epoch #291, Training error: 0.362587\n",
      "Epoch #292, Training error: 0.350269\n",
      "Epoch #293, Training error: 0.410316\n",
      "Epoch #294, Training error: 0.374904\n",
      "Epoch #295, Training error: 0.344881\n",
      "Epoch #296, Training error: 0.366436\n",
      "Epoch #297, Training error: 0.253272\n",
      "Epoch #298, Training error: 0.342571\n",
      "Epoch #299, Training error: 0.391840\n",
      "CPU times: user 1min 32s, sys: 3.89 s, total: 1min 36s\n",
      "Wall time: 1min 25s\n"
     ]
    }
   ],
   "source": [
    "lf_opts = {'sample': False, 'verbose': True}\n",
    "model_opts = {'n_iter': 300, 'verbose': True, 'contain_mention': True, 'word_window_length': 0, 'ignore_case': False}\n",
    "%time DDL.train_model(method='lstm', lf_opts=lf_opts, model_opts=model_opts)"
   ]
  },
  {
   "cell_type": "code",
   "execution_count": 20,
   "metadata": {
    "collapsed": false
   },
   "outputs": [
    {
     "name": "stdout",
     "output_type": "stream",
     "text": [
      "Full model accuracy: 0.680\n"
     ]
    }
   ],
   "source": [
    "idxs, gt = DDL.get_labeled_ground_truth(subset=DDL.holdout())\n",
    "acc_feats = np.mean(DDL.get_predicted(subset=DDL.holdout()) == gt)\n",
    "print \"Full model accuracy: {:.3f}\".format(acc_feats)"
   ]
  }
 ],
 "metadata": {
  "kernelspec": {
   "display_name": "Python 2",
   "language": "python",
   "name": "python2"
  },
  "language_info": {
   "codemirror_mode": {
    "name": "ipython",
    "version": 2
   },
   "file_extension": ".py",
   "mimetype": "text/x-python",
   "name": "python",
   "nbconvert_exporter": "python",
   "pygments_lexer": "ipython2",
   "version": "2.7.10"
  },
  "widgets": {
   "state": {},
   "version": "1.1.2"
  }
 },
 "nbformat": 4,
 "nbformat_minor": 0
}
